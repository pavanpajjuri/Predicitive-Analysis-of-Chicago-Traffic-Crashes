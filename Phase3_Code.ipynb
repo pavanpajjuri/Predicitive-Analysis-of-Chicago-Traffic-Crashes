{
  "cells": [
    {
      "cell_type": "code",
      "execution_count": 1,
      "metadata": {
        "id": "AjDvKQ0iVXgU"
      },
      "outputs": [],
      "source": [
        "from pyspark.sql import SparkSession\n",
        "from pyspark.sql.functions import col, to_date, count, when, expr, col, avg, rank, sum, log\n",
        "from pyspark.sql.types import StringType, IntegerType, DoubleType\n",
        "from pyspark.sql.window import Window\n",
        "\n",
        "from pyspark.ml.feature import StandardScaler, VectorAssembler, OneHotEncoder, StringIndexer, Imputer\n",
        "from pyspark.ml.functions import vector_to_array\n",
        "\n",
        "import logging\n",
        "\n",
        "from pyspark.ml.regression import LinearRegression\n",
        "from pyspark.ml.classification import NaiveBayes, LogisticRegression, LinearSVC, RandomForestClassifier\n",
        "from pyspark.ml.tuning import ParamGridBuilder, CrossValidator\n",
        "from pyspark.ml.evaluation import MulticlassClassificationEvaluator,RegressionEvaluator\n",
        "from xgboost.spark import SparkXGBClassifier\n"
      ]
    },
    {
      "cell_type": "markdown",
      "metadata": {
        "id": "_cJ7SuAHbQ1M"
      },
      "source": [
        "### Initialize a Spark session and load the dataset into a PySpark DataFrame."
      ]
    },
    {
      "cell_type": "code",
      "execution_count": 2,
      "metadata": {
        "id": "vucVxxPSbJWZ"
      },
      "outputs": [],
      "source": [
        "# Initialize Spark Session\n",
        "spark = SparkSession.builder.appName(\"ChicagoCrashesDistributedCleaning\").getOrCreate()"
      ]
    },
    {
      "cell_type": "code",
      "execution_count": 3,
      "metadata": {
        "colab": {
          "base_uri": "https://localhost:8080/"
        },
        "id": "9zSsbvv4eCk4",
        "outputId": "09df0829-26db-4577-9cb1-205c9d5cb90b"
      },
      "outputs": [
        {
          "output_type": "stream",
          "name": "stdout",
          "text": [
            "Crashes Data contains: 895656 rows, 48 columns\n",
            "root\n",
            " |-- CRASH_RECORD_ID: string (nullable = true)\n",
            " |-- CRASH_DATE_EST_I: string (nullable = true)\n",
            " |-- CRASH_DATE: string (nullable = true)\n",
            " |-- POSTED_SPEED_LIMIT: integer (nullable = true)\n",
            " |-- TRAFFIC_CONTROL_DEVICE: string (nullable = true)\n",
            " |-- DEVICE_CONDITION: string (nullable = true)\n",
            " |-- WEATHER_CONDITION: string (nullable = true)\n",
            " |-- LIGHTING_CONDITION: string (nullable = true)\n",
            " |-- FIRST_CRASH_TYPE: string (nullable = true)\n",
            " |-- TRAFFICWAY_TYPE: string (nullable = true)\n",
            " |-- LANE_CNT: integer (nullable = true)\n",
            " |-- ALIGNMENT: string (nullable = true)\n",
            " |-- ROADWAY_SURFACE_COND: string (nullable = true)\n",
            " |-- ROAD_DEFECT: string (nullable = true)\n",
            " |-- REPORT_TYPE: string (nullable = true)\n",
            " |-- CRASH_TYPE: string (nullable = true)\n",
            " |-- INTERSECTION_RELATED_I: string (nullable = true)\n",
            " |-- NOT_RIGHT_OF_WAY_I: string (nullable = true)\n",
            " |-- HIT_AND_RUN_I: string (nullable = true)\n",
            " |-- DAMAGE: string (nullable = true)\n",
            " |-- DATE_POLICE_NOTIFIED: string (nullable = true)\n",
            " |-- PRIM_CONTRIBUTORY_CAUSE: string (nullable = true)\n",
            " |-- SEC_CONTRIBUTORY_CAUSE: string (nullable = true)\n",
            " |-- STREET_NO: integer (nullable = true)\n",
            " |-- STREET_DIRECTION: string (nullable = true)\n",
            " |-- STREET_NAME: string (nullable = true)\n",
            " |-- BEAT_OF_OCCURRENCE: integer (nullable = true)\n",
            " |-- PHOTOS_TAKEN_I: string (nullable = true)\n",
            " |-- STATEMENTS_TAKEN_I: string (nullable = true)\n",
            " |-- DOORING_I: string (nullable = true)\n",
            " |-- WORK_ZONE_I: string (nullable = true)\n",
            " |-- WORK_ZONE_TYPE: string (nullable = true)\n",
            " |-- WORKERS_PRESENT_I: string (nullable = true)\n",
            " |-- NUM_UNITS: integer (nullable = true)\n",
            " |-- MOST_SEVERE_INJURY: string (nullable = true)\n",
            " |-- INJURIES_TOTAL: integer (nullable = true)\n",
            " |-- INJURIES_FATAL: integer (nullable = true)\n",
            " |-- INJURIES_INCAPACITATING: integer (nullable = true)\n",
            " |-- INJURIES_NON_INCAPACITATING: integer (nullable = true)\n",
            " |-- INJURIES_REPORTED_NOT_EVIDENT: integer (nullable = true)\n",
            " |-- INJURIES_NO_INDICATION: integer (nullable = true)\n",
            " |-- INJURIES_UNKNOWN: integer (nullable = true)\n",
            " |-- CRASH_HOUR: integer (nullable = true)\n",
            " |-- CRASH_DAY_OF_WEEK: integer (nullable = true)\n",
            " |-- CRASH_MONTH: integer (nullable = true)\n",
            " |-- LATITUDE: double (nullable = true)\n",
            " |-- LONGITUDE: double (nullable = true)\n",
            " |-- LOCATION: string (nullable = true)\n",
            "\n",
            "+--------------------+----------------+--------------------+------------------+----------------------+--------------------+-----------------+--------------------+--------------------+--------------------+--------+------------------+--------------------+-----------+-----------+--------------------+----------------------+------------------+-------------+-----------+--------------------+-----------------------+----------------------+---------+----------------+-----------------+------------------+--------------+------------------+---------+-----------+--------------+-----------------+---------+--------------------+--------------+--------------+-----------------------+---------------------------+-----------------------------+----------------------+----------------+----------+-----------------+-----------+------------+-------------+--------------------+\n",
            "|     CRASH_RECORD_ID|CRASH_DATE_EST_I|          CRASH_DATE|POSTED_SPEED_LIMIT|TRAFFIC_CONTROL_DEVICE|    DEVICE_CONDITION|WEATHER_CONDITION|  LIGHTING_CONDITION|    FIRST_CRASH_TYPE|     TRAFFICWAY_TYPE|LANE_CNT|         ALIGNMENT|ROADWAY_SURFACE_COND|ROAD_DEFECT|REPORT_TYPE|          CRASH_TYPE|INTERSECTION_RELATED_I|NOT_RIGHT_OF_WAY_I|HIT_AND_RUN_I|     DAMAGE|DATE_POLICE_NOTIFIED|PRIM_CONTRIBUTORY_CAUSE|SEC_CONTRIBUTORY_CAUSE|STREET_NO|STREET_DIRECTION|      STREET_NAME|BEAT_OF_OCCURRENCE|PHOTOS_TAKEN_I|STATEMENTS_TAKEN_I|DOORING_I|WORK_ZONE_I|WORK_ZONE_TYPE|WORKERS_PRESENT_I|NUM_UNITS|  MOST_SEVERE_INJURY|INJURIES_TOTAL|INJURIES_FATAL|INJURIES_INCAPACITATING|INJURIES_NON_INCAPACITATING|INJURIES_REPORTED_NOT_EVIDENT|INJURIES_NO_INDICATION|INJURIES_UNKNOWN|CRASH_HOUR|CRASH_DAY_OF_WEEK|CRASH_MONTH|    LATITUDE|    LONGITUDE|            LOCATION|\n",
            "+--------------------+----------------+--------------------+------------------+----------------------+--------------------+-----------------+--------------------+--------------------+--------------------+--------+------------------+--------------------+-----------+-----------+--------------------+----------------------+------------------+-------------+-----------+--------------------+-----------------------+----------------------+---------+----------------+-----------------+------------------+--------------+------------------+---------+-----------+--------------+-----------------+---------+--------------------+--------------+--------------+-----------------------+---------------------------+-----------------------------+----------------------+----------------+----------+-----------------+-----------+------------+-------------+--------------------+\n",
            "|23a79931ef555d541...|            NULL|09/05/2023 07:05:...|                30|        TRAFFIC SIGNAL|FUNCTIONING PROPERLY|            CLEAR|                DUSK|               ANGLE| FIVE POINT, OR MORE|    NULL|STRAIGHT AND LEVEL|                 DRY| NO DEFECTS|   ON SCENE|INJURY AND / OR T...|                     Y|              NULL|         NULL|OVER $1,500|09/05/2023 07:05:...|    UNABLE TO DETERMINE|        NOT APPLICABLE|     5500|               S|    WENTWORTH AVE|               225|          NULL|              NULL|     NULL|       NULL|          NULL|             NULL|        2|INCAPACITATING IN...|             3|             0|                      1|                          2|                            0|                     2|               0|        19|                3|          9|        NULL|         NULL|                NULL|\n",
            "|2675c13fd0f474d73...|            NULL|09/22/2023 06:45:...|                50|           NO CONTROLS|         NO CONTROLS|            CLEAR|DARKNESS, LIGHTED...|            REAR END|DIVIDED - W/MEDIA...|    NULL|STRAIGHT AND LEVEL|                 DRY| NO DEFECTS|   ON SCENE|NO INJURY / DRIVE...|                  NULL|              NULL|         NULL|OVER $1,500|09/22/2023 06:50:...|   FOLLOWING TOO CLO...|  FOLLOWING TOO CLO...|     7900|               S|CHICAGO SKYWAY OB|               411|          NULL|              NULL|     NULL|       NULL|          NULL|             NULL|        2|NO INDICATION OF ...|             0|             0|                      0|                          0|                            0|                     2|               0|        18|                6|          9|        NULL|         NULL|                NULL|\n",
            "|5f54a59fcb087b12a...|            NULL|07/29/2023 02:45:...|                30|        TRAFFIC SIGNAL|FUNCTIONING PROPERLY|            CLEAR|            DAYLIGHT|PARKED MOTOR VEHICLE|DIVIDED - W/MEDIA...|    NULL|STRAIGHT AND LEVEL|                 DRY| NO DEFECTS|   ON SCENE|NO INJURY / DRIVE...|                  NULL|              NULL|            Y|OVER $1,500|07/29/2023 02:45:...|   FAILING TO REDUCE...|  OPERATING VEHICLE...|     2101|               S|      ASHLAND AVE|              1235|          NULL|              NULL|     NULL|       NULL|          NULL|             NULL|        4|NO INDICATION OF ...|             0|             0|                      0|                          0|                            0|                     1|               0|        14|                7|          7|41.854120263|-87.665902343|POINT (-87.665902...|\n",
            "|7ebf015016f83d09b...|            NULL|08/09/2023 11:00:...|                30|           NO CONTROLS|         NO CONTROLS|            CLEAR|DARKNESS, LIGHTED...|SIDESWIPE SAME DI...|         NOT DIVIDED|    NULL|STRAIGHT AND LEVEL|                 DRY| NO DEFECTS|   ON SCENE|NO INJURY / DRIVE...|                  NULL|              NULL|         NULL|OVER $1,500|08/09/2023 11:40:...|   FAILING TO YIELD ...|        NOT APPLICABLE|    10020|               W|     BALMORAL AVE|              1650|          NULL|              NULL|     NULL|       NULL|          NULL|             NULL|        2|NO INDICATION OF ...|             0|             0|                      0|                          0|                            0|                     2|               0|        23|                4|          8|        NULL|         NULL|                NULL|\n",
            "|6c1659069e9c6285a...|            NULL|08/18/2023 12:50:...|                15|                 OTHER|FUNCTIONING PROPERLY|            CLEAR|            DAYLIGHT|            REAR END|               OTHER|    NULL|STRAIGHT AND LEVEL|                 DRY| NO DEFECTS|   ON SCENE|INJURY AND / OR T...|                  NULL|              NULL|         NULL|OVER $1,500|08/18/2023 12:55:...|   FOLLOWING TOO CLO...|  DISTRACTION - FRO...|      700|               W|         OHARE ST|              1654|          NULL|              NULL|     NULL|       NULL|          NULL|             NULL|        2|NONINCAPACITATING...|             1|             0|                      0|                          1|                            0|                     1|               0|        12|                6|          8|        NULL|         NULL|                NULL|\n",
            "+--------------------+----------------+--------------------+------------------+----------------------+--------------------+-----------------+--------------------+--------------------+--------------------+--------+------------------+--------------------+-----------+-----------+--------------------+----------------------+------------------+-------------+-----------+--------------------+-----------------------+----------------------+---------+----------------+-----------------+------------------+--------------+------------------+---------+-----------+--------------+-----------------+---------+--------------------+--------------+--------------+-----------------------+---------------------------+-----------------------------+----------------------+----------------+----------+-----------------+-----------+------------+-------------+--------------------+\n",
            "only showing top 5 rows\n",
            "\n"
          ]
        }
      ],
      "source": [
        "# import requests\n",
        "\n",
        "# # Download the file locally\n",
        "# url = 'https://data.cityofchicago.org/api/views/85ca-t3if/rows.csv'\n",
        "# response = requests.get(url)\n",
        "\n",
        "# # Save the file locally\n",
        "# with open('Traffic_Crashes_-_Crashes.csv', 'wb') as f:\n",
        "#     f.write(response.content)\n",
        "\n",
        "# Load the locally saved file into PySpark\n",
        "crashes = spark.read.csv('Traffic_Crashes_-_Crashes.csv', header=True, inferSchema=True)\n",
        "print(f\"Crashes Data contains: {crashes.count()} rows, {len(crashes.columns)} columns\")\n",
        "\n",
        "# Verify the data\n",
        "crashes.printSchema()\n",
        "crashes.show(5)"
      ]
    },
    {
      "cell_type": "markdown",
      "source": [
        "# 1. Datatype Conversion and extracting Data\n",
        "\n",
        "The `CRASH_DATE` column is converted into a datetime format to facilitate filtering by date. We filter the dataset to include only records between June 1, 2023, and December 31, 2023."
      ],
      "metadata": {
        "id": "PJeBdltdOEct"
      }
    },
    {
      "cell_type": "code",
      "execution_count": 4,
      "metadata": {
        "id": "3NN8ErcodbH3",
        "colab": {
          "base_uri": "https://localhost:8080/"
        },
        "outputId": "080dd470-9c74-4663-9d81-9ad4f3e549ed"
      },
      "outputs": [
        {
          "output_type": "stream",
          "name": "stdout",
          "text": [
            "Filtered Data contains: 66218 rows, 48 columns\n",
            "+--------------------+----------------+-------------------+------------------+----------------------+--------------------+-----------------+--------------------+--------------------+--------------------+--------+------------------+--------------------+-----------+-----------+--------------------+----------------------+------------------+-------------+-----------+--------------------+-----------------------+----------------------+---------+----------------+-----------------+------------------+--------------+------------------+---------+-----------+--------------+-----------------+---------+--------------------+--------------+--------------+-----------------------+---------------------------+-----------------------------+----------------------+----------------+----------+-----------------+-----------+------------+-------------+--------------------+\n",
            "|     CRASH_RECORD_ID|CRASH_DATE_EST_I|         CRASH_DATE|POSTED_SPEED_LIMIT|TRAFFIC_CONTROL_DEVICE|    DEVICE_CONDITION|WEATHER_CONDITION|  LIGHTING_CONDITION|    FIRST_CRASH_TYPE|     TRAFFICWAY_TYPE|LANE_CNT|         ALIGNMENT|ROADWAY_SURFACE_COND|ROAD_DEFECT|REPORT_TYPE|          CRASH_TYPE|INTERSECTION_RELATED_I|NOT_RIGHT_OF_WAY_I|HIT_AND_RUN_I|     DAMAGE|DATE_POLICE_NOTIFIED|PRIM_CONTRIBUTORY_CAUSE|SEC_CONTRIBUTORY_CAUSE|STREET_NO|STREET_DIRECTION|      STREET_NAME|BEAT_OF_OCCURRENCE|PHOTOS_TAKEN_I|STATEMENTS_TAKEN_I|DOORING_I|WORK_ZONE_I|WORK_ZONE_TYPE|WORKERS_PRESENT_I|NUM_UNITS|  MOST_SEVERE_INJURY|INJURIES_TOTAL|INJURIES_FATAL|INJURIES_INCAPACITATING|INJURIES_NON_INCAPACITATING|INJURIES_REPORTED_NOT_EVIDENT|INJURIES_NO_INDICATION|INJURIES_UNKNOWN|CRASH_HOUR|CRASH_DAY_OF_WEEK|CRASH_MONTH|    LATITUDE|    LONGITUDE|            LOCATION|\n",
            "+--------------------+----------------+-------------------+------------------+----------------------+--------------------+-----------------+--------------------+--------------------+--------------------+--------+------------------+--------------------+-----------+-----------+--------------------+----------------------+------------------+-------------+-----------+--------------------+-----------------------+----------------------+---------+----------------+-----------------+------------------+--------------+------------------+---------+-----------+--------------+-----------------+---------+--------------------+--------------+--------------+-----------------------+---------------------------+-----------------------------+----------------------+----------------+----------+-----------------+-----------+------------+-------------+--------------------+\n",
            "|23a79931ef555d541...|            NULL|2023-09-05 19:05:00|                30|        TRAFFIC SIGNAL|FUNCTIONING PROPERLY|            CLEAR|                DUSK|               ANGLE| FIVE POINT, OR MORE|    NULL|STRAIGHT AND LEVEL|                 DRY| NO DEFECTS|   ON SCENE|INJURY AND / OR T...|                     Y|              NULL|         NULL|OVER $1,500|09/05/2023 07:05:...|    UNABLE TO DETERMINE|        NOT APPLICABLE|     5500|               S|    WENTWORTH AVE|               225|          NULL|              NULL|     NULL|       NULL|          NULL|             NULL|        2|INCAPACITATING IN...|             3|             0|                      1|                          2|                            0|                     2|               0|        19|                3|          9|        NULL|         NULL|                NULL|\n",
            "|2675c13fd0f474d73...|            NULL|2023-09-22 18:45:00|                50|           NO CONTROLS|         NO CONTROLS|            CLEAR|DARKNESS, LIGHTED...|            REAR END|DIVIDED - W/MEDIA...|    NULL|STRAIGHT AND LEVEL|                 DRY| NO DEFECTS|   ON SCENE|NO INJURY / DRIVE...|                  NULL|              NULL|         NULL|OVER $1,500|09/22/2023 06:50:...|   FOLLOWING TOO CLO...|  FOLLOWING TOO CLO...|     7900|               S|CHICAGO SKYWAY OB|               411|          NULL|              NULL|     NULL|       NULL|          NULL|             NULL|        2|NO INDICATION OF ...|             0|             0|                      0|                          0|                            0|                     2|               0|        18|                6|          9|        NULL|         NULL|                NULL|\n",
            "|5f54a59fcb087b12a...|            NULL|2023-07-29 14:45:00|                30|        TRAFFIC SIGNAL|FUNCTIONING PROPERLY|            CLEAR|            DAYLIGHT|PARKED MOTOR VEHICLE|DIVIDED - W/MEDIA...|    NULL|STRAIGHT AND LEVEL|                 DRY| NO DEFECTS|   ON SCENE|NO INJURY / DRIVE...|                  NULL|              NULL|            Y|OVER $1,500|07/29/2023 02:45:...|   FAILING TO REDUCE...|  OPERATING VEHICLE...|     2101|               S|      ASHLAND AVE|              1235|          NULL|              NULL|     NULL|       NULL|          NULL|             NULL|        4|NO INDICATION OF ...|             0|             0|                      0|                          0|                            0|                     1|               0|        14|                7|          7|41.854120263|-87.665902343|POINT (-87.665902...|\n",
            "|7ebf015016f83d09b...|            NULL|2023-08-09 23:00:00|                30|           NO CONTROLS|         NO CONTROLS|            CLEAR|DARKNESS, LIGHTED...|SIDESWIPE SAME DI...|         NOT DIVIDED|    NULL|STRAIGHT AND LEVEL|                 DRY| NO DEFECTS|   ON SCENE|NO INJURY / DRIVE...|                  NULL|              NULL|         NULL|OVER $1,500|08/09/2023 11:40:...|   FAILING TO YIELD ...|        NOT APPLICABLE|    10020|               W|     BALMORAL AVE|              1650|          NULL|              NULL|     NULL|       NULL|          NULL|             NULL|        2|NO INDICATION OF ...|             0|             0|                      0|                          0|                            0|                     2|               0|        23|                4|          8|        NULL|         NULL|                NULL|\n",
            "|6c1659069e9c6285a...|            NULL|2023-08-18 12:50:00|                15|                 OTHER|FUNCTIONING PROPERLY|            CLEAR|            DAYLIGHT|            REAR END|               OTHER|    NULL|STRAIGHT AND LEVEL|                 DRY| NO DEFECTS|   ON SCENE|INJURY AND / OR T...|                  NULL|              NULL|         NULL|OVER $1,500|08/18/2023 12:55:...|   FOLLOWING TOO CLO...|  DISTRACTION - FRO...|      700|               W|         OHARE ST|              1654|          NULL|              NULL|     NULL|       NULL|          NULL|             NULL|        2|NONINCAPACITATING...|             1|             0|                      0|                          1|                            0|                     1|               0|        12|                6|          8|        NULL|         NULL|                NULL|\n",
            "+--------------------+----------------+-------------------+------------------+----------------------+--------------------+-----------------+--------------------+--------------------+--------------------+--------+------------------+--------------------+-----------+-----------+--------------------+----------------------+------------------+-------------+-----------+--------------------+-----------------------+----------------------+---------+----------------+-----------------+------------------+--------------+------------------+---------+-----------+--------------+-----------------+---------+--------------------+--------------+--------------+-----------------------+---------------------------+-----------------------------+----------------------+----------------+----------+-----------------+-----------+------------+-------------+--------------------+\n",
            "only showing top 5 rows\n",
            "\n"
          ]
        }
      ],
      "source": [
        "# Convert CRASH_DATE to datetime format\n",
        "# Convert `CRASH_DATE` to datetime format\n",
        "from pyspark.sql.functions import to_timestamp, col\n",
        "crashes = crashes.withColumn(\"CRASH_DATE\", to_timestamp(col(\"CRASH_DATE\"), \"MM/dd/yyyy hh:mm:ss a\"))\n",
        "\n",
        "# Define the start and end dates for filtering\n",
        "start_date = \"2023-06-01\"\n",
        "end_date = \"2023-12-31\"\n",
        "\n",
        "# Filter the dataset based on the date range\n",
        "filtered_crashes = crashes.filter((col(\"CRASH_DATE\") >= start_date) & (col(\"CRASH_DATE\") <= end_date))\n",
        "\n",
        "# Show the filtered data count and a few rows for verification\n",
        "print(f\"Filtered Data contains: {filtered_crashes.count()} rows, {len(filtered_crashes.columns)} columns\")\n",
        "filtered_crashes.show(5)"
      ]
    },
    {
      "cell_type": "markdown",
      "metadata": {
        "id": "KyagYlwBfuk0"
      },
      "source": [
        "# 2. RDD Operations for Missing Value Analysis.\n",
        "\n",
        "Here, we convert the DataFrame to an RDD to perform row-wise analysis of missing values. Using RDD transformations, we compute the number of missing values in each row. Rows with more than 20% missing values are filtered out using RDD filtering operations.\n"
      ]
    },
    {
      "cell_type": "code",
      "execution_count": 5,
      "metadata": {
        "colab": {
          "base_uri": "https://localhost:8080/"
        },
        "id": "o8v5nlwxfuNC",
        "outputId": "06984409-0556-4d87-9664-bfba02071a51"
      },
      "outputs": [
        {
          "output_type": "stream",
          "name": "stdout",
          "text": [
            "DataFrame shape before dropping: 66218 rows, 48 columns\n",
            "DataFrame shape after dropping some columns: 66218 rows, 37 columns\n",
            "Dropping Columns are: {'WORKERS_PRESENT_I', 'NOT_RIGHT_OF_WAY_I', 'DOORING_I', 'STATEMENTS_TAKEN_I', 'LANE_CNT', 'HIT_AND_RUN_I', 'INTERSECTION_RELATED_I', 'WORK_ZONE_I', 'WORK_ZONE_TYPE', 'CRASH_DATE_EST_I', 'PHOTOS_TAKEN_I'}\n"
          ]
        }
      ],
      "source": [
        "# Get the original columns of the DataFrame\n",
        "original_cols = filtered_crashes.columns\n",
        "\n",
        "# Print the initial shape of the DataFrame\n",
        "print(f\"DataFrame shape before dropping: {filtered_crashes.count()} rows, {len(original_cols)} columns\")\n",
        "\n",
        "# 1. Drop columns with more than 30% missing values\n",
        "# Calculate column threshold (minimum non-null rows required to keep the column)\n",
        "col_threshold_value = int((1 - 0.3) * filtered_crashes.count())\n",
        "\n",
        "# Filter columns based on the threshold\n",
        "columns_to_keep = [\n",
        "    c for c in original_cols if filtered_crashes.select(count(when(col(c).isNotNull(), c))).first()[0] >= col_threshold_value\n",
        "]\n",
        "filtered_crashes = filtered_crashes.select(*columns_to_keep)\n",
        "cleaned_cols = filtered_crashes.columns\n",
        "print(f\"DataFrame shape after dropping some columns: {filtered_crashes.count()} rows, {len(cleaned_cols)} columns\")\n",
        "\n",
        "dropped_columns = set(original_cols) - set(cleaned_cols)\n",
        "print(f\"Dropping Columns are: {dropped_columns}\")"
      ]
    },
    {
      "cell_type": "code",
      "execution_count": 8,
      "metadata": {
        "id": "KXrUodHBibkM",
        "colab": {
          "base_uri": "https://localhost:8080/"
        },
        "outputId": "780ed998-9a41-4430-d5f8-2da819234ee9"
      },
      "outputs": [
        {
          "output_type": "stream",
          "name": "stdout",
          "text": [
            "DataFrame shape after dropping: 66212 rows, 37 columns\n"
          ]
        }
      ],
      "source": [
        "# Calculate the row threshold\n",
        "row_threshold_value = int((1 - 0.2) * len(columns_to_keep))\n",
        "\n",
        "# Drop rows with fewer than the threshold of non-null values\n",
        "filtered_crashes = filtered_crashes.na.drop(thresh=row_threshold_value, subset=columns_to_keep)\n",
        "\n",
        "print(f\"DataFrame shape after dropping: {filtered_crashes.count()} rows, {len(filtered_crashes.columns)} columns\")"
      ]
    },
    {
      "cell_type": "markdown",
      "source": [
        "# 3. Handling Missing Values\n",
        "\n",
        "In this section, missing values in categorical and numerical columns are handled.For categorical columns, missing values are replaced with the mode (most frequent value). For numerical columns, missing values are replaced with the median to account for potential outliers."
      ],
      "metadata": {
        "id": "6xQCm_jG5_18"
      }
    },
    {
      "cell_type": "code",
      "source": [
        "filtered_crashes.printSchema()"
      ],
      "metadata": {
        "colab": {
          "base_uri": "https://localhost:8080/"
        },
        "id": "3hh8jx_--XDV",
        "outputId": "cb9eb0d6-1a9c-4a4d-a095-a30515d509e8"
      },
      "execution_count": 9,
      "outputs": [
        {
          "output_type": "stream",
          "name": "stdout",
          "text": [
            "root\n",
            " |-- CRASH_RECORD_ID: string (nullable = true)\n",
            " |-- CRASH_DATE: timestamp (nullable = true)\n",
            " |-- POSTED_SPEED_LIMIT: integer (nullable = true)\n",
            " |-- TRAFFIC_CONTROL_DEVICE: string (nullable = true)\n",
            " |-- DEVICE_CONDITION: string (nullable = true)\n",
            " |-- WEATHER_CONDITION: string (nullable = true)\n",
            " |-- LIGHTING_CONDITION: string (nullable = true)\n",
            " |-- FIRST_CRASH_TYPE: string (nullable = true)\n",
            " |-- TRAFFICWAY_TYPE: string (nullable = true)\n",
            " |-- ALIGNMENT: string (nullable = true)\n",
            " |-- ROADWAY_SURFACE_COND: string (nullable = true)\n",
            " |-- ROAD_DEFECT: string (nullable = true)\n",
            " |-- REPORT_TYPE: string (nullable = true)\n",
            " |-- CRASH_TYPE: string (nullable = true)\n",
            " |-- DAMAGE: string (nullable = true)\n",
            " |-- DATE_POLICE_NOTIFIED: string (nullable = true)\n",
            " |-- PRIM_CONTRIBUTORY_CAUSE: string (nullable = true)\n",
            " |-- SEC_CONTRIBUTORY_CAUSE: string (nullable = true)\n",
            " |-- STREET_NO: integer (nullable = true)\n",
            " |-- STREET_DIRECTION: string (nullable = true)\n",
            " |-- STREET_NAME: string (nullable = true)\n",
            " |-- BEAT_OF_OCCURRENCE: integer (nullable = true)\n",
            " |-- NUM_UNITS: integer (nullable = true)\n",
            " |-- MOST_SEVERE_INJURY: string (nullable = true)\n",
            " |-- INJURIES_TOTAL: integer (nullable = true)\n",
            " |-- INJURIES_FATAL: integer (nullable = true)\n",
            " |-- INJURIES_INCAPACITATING: integer (nullable = true)\n",
            " |-- INJURIES_NON_INCAPACITATING: integer (nullable = true)\n",
            " |-- INJURIES_REPORTED_NOT_EVIDENT: integer (nullable = true)\n",
            " |-- INJURIES_NO_INDICATION: integer (nullable = true)\n",
            " |-- INJURIES_UNKNOWN: integer (nullable = true)\n",
            " |-- CRASH_HOUR: integer (nullable = true)\n",
            " |-- CRASH_DAY_OF_WEEK: integer (nullable = true)\n",
            " |-- CRASH_MONTH: integer (nullable = true)\n",
            " |-- LATITUDE: double (nullable = true)\n",
            " |-- LONGITUDE: double (nullable = true)\n",
            " |-- LOCATION: string (nullable = true)\n",
            "\n"
          ]
        }
      ]
    },
    {
      "cell_type": "code",
      "source": [
        "# ### 2.1: Categorical Columns Missing Values\n",
        "\n",
        "# Identify categorical columns\n",
        "cat_cols = [field.name for field in filtered_crashes.schema.fields if isinstance(field.dataType, StringType)]\n",
        "print(\"Categorical columns:\", cat_cols)\n",
        "\n",
        "# Print null counts for categorical columns\n",
        "print(\"Null counts for categorical columns:\")\n",
        "filtered_crashes.select([count(when(col(c).isNull(), c)).alias(c) for c in cat_cols]).show()\n",
        "\n",
        "# Fill missing values in categorical columns with the mode (most frequent value)\n",
        "cat_cols = ['REPORT_TYPE','MOST_SEVERE_INJURY']\n",
        "for col_name in cat_cols:\n",
        "    # Calculate the mode for the column\n",
        "    mode_value = (\n",
        "        filtered_crashes.groupBy(col_name).count().orderBy(\"count\", ascending=False).first()[0]\n",
        "    )\n",
        "    # Fill missing values with the mode\n",
        "    filtered_crashes = filtered_crashes.fillna({col_name: mode_value})\n",
        "    print(f\"Column: {col_name} - Mode Value: {mode_value}\")"
      ],
      "metadata": {
        "colab": {
          "base_uri": "https://localhost:8080/"
        },
        "id": "gZjdTIV95L5u",
        "outputId": "9e5d1e97-2866-4c13-f16e-6fb322696dff"
      },
      "execution_count": 11,
      "outputs": [
        {
          "output_type": "stream",
          "name": "stdout",
          "text": [
            "Categorical columns: ['CRASH_RECORD_ID', 'TRAFFIC_CONTROL_DEVICE', 'DEVICE_CONDITION', 'WEATHER_CONDITION', 'LIGHTING_CONDITION', 'FIRST_CRASH_TYPE', 'TRAFFICWAY_TYPE', 'ALIGNMENT', 'ROADWAY_SURFACE_COND', 'ROAD_DEFECT', 'REPORT_TYPE', 'CRASH_TYPE', 'DAMAGE', 'DATE_POLICE_NOTIFIED', 'PRIM_CONTRIBUTORY_CAUSE', 'SEC_CONTRIBUTORY_CAUSE', 'STREET_DIRECTION', 'STREET_NAME', 'MOST_SEVERE_INJURY', 'LOCATION']\n",
            "Null counts for categorical columns:\n",
            "+---------------+----------------------+----------------+-----------------+------------------+----------------+---------------+---------+--------------------+-----------+-----------+----------+------+--------------------+-----------------------+----------------------+----------------+-----------+------------------+--------+\n",
            "|CRASH_RECORD_ID|TRAFFIC_CONTROL_DEVICE|DEVICE_CONDITION|WEATHER_CONDITION|LIGHTING_CONDITION|FIRST_CRASH_TYPE|TRAFFICWAY_TYPE|ALIGNMENT|ROADWAY_SURFACE_COND|ROAD_DEFECT|REPORT_TYPE|CRASH_TYPE|DAMAGE|DATE_POLICE_NOTIFIED|PRIM_CONTRIBUTORY_CAUSE|SEC_CONTRIBUTORY_CAUSE|STREET_DIRECTION|STREET_NAME|MOST_SEVERE_INJURY|LOCATION|\n",
            "+---------------+----------------------+----------------+-----------------+------------------+----------------+---------------+---------+--------------------+-----------+-----------+----------+------+--------------------+-----------------------+----------------------+----------------+-----------+------------------+--------+\n",
            "|              0|                     0|               0|                0|                 0|               0|              0|        0|                   0|          0|       2728|         0|     0|                   0|                      0|                     0|               0|          0|               158|     634|\n",
            "+---------------+----------------------+----------------+-----------------+------------------+----------------+---------------+---------+--------------------+-----------+-----------+----------+------+--------------------+-----------------------+----------------------+----------------+-----------+------------------+--------+\n",
            "\n",
            "Column: REPORT_TYPE - Mode Value: NOT ON SCENE (DESK REPORT)\n",
            "Column: MOST_SEVERE_INJURY - Mode Value: NO INDICATION OF INJURY\n"
          ]
        }
      ]
    },
    {
      "cell_type": "code",
      "source": [
        "from pyspark.ml.feature import Imputer\n",
        "from pyspark.sql.functions import count, when, col\n",
        "\n",
        "# Identify all numerical columns\n",
        "all_num_cols = [field.name for field in filtered_crashes.schema.fields if isinstance(field.dataType, (IntegerType, DoubleType))]\n",
        "print(\"All numerical columns:\", all_num_cols)\n",
        "\n",
        "# Identify numerical columns with missing values\n",
        "null_counts = filtered_crashes.select([count(when(col(c).isNull(), c)).alias(c) for c in all_num_cols]).toPandas()\n",
        "num_cols_with_nulls = null_counts.loc[:, (null_counts != 0).any()].columns.tolist()\n",
        "print(\"Numerical columns with missing values:\", num_cols_with_nulls)\n",
        "\n",
        "# Use Imputer to fill missing values with the median\n",
        "if num_cols_with_nulls:\n",
        "    imputer = Imputer(inputCols=num_cols_with_nulls, outputCols=num_cols_with_nulls).setStrategy(\"median\")\n",
        "    filtered_crashes = imputer.fit(filtered_crashes).transform(filtered_crashes)\n",
        "\n",
        "# Verify results\n",
        "print(\"Missing values after imputation:\")\n",
        "filtered_crashes.select([count(when(col(c).isNull(), c)).alias(c) for c in num_cols_with_nulls]).show()\n"
      ],
      "metadata": {
        "colab": {
          "base_uri": "https://localhost:8080/"
        },
        "id": "WhAHE39GwNkz",
        "outputId": "a4212ed6-5415-4f96-9abf-1bd718e4af7e"
      },
      "execution_count": 13,
      "outputs": [
        {
          "output_type": "stream",
          "name": "stdout",
          "text": [
            "All numerical columns: ['POSTED_SPEED_LIMIT', 'STREET_NO', 'BEAT_OF_OCCURRENCE', 'NUM_UNITS', 'INJURIES_TOTAL', 'INJURIES_FATAL', 'INJURIES_INCAPACITATING', 'INJURIES_NON_INCAPACITATING', 'INJURIES_REPORTED_NOT_EVIDENT', 'INJURIES_NO_INDICATION', 'INJURIES_UNKNOWN', 'CRASH_HOUR', 'CRASH_DAY_OF_WEEK', 'CRASH_MONTH', 'LATITUDE', 'LONGITUDE']\n",
            "Numerical columns with missing values: ['INJURIES_TOTAL', 'INJURIES_FATAL', 'INJURIES_INCAPACITATING', 'INJURIES_NON_INCAPACITATING', 'INJURIES_REPORTED_NOT_EVIDENT', 'INJURIES_NO_INDICATION', 'INJURIES_UNKNOWN', 'LATITUDE', 'LONGITUDE']\n",
            "Missing values after imputation:\n",
            "+--------------+--------------+-----------------------+---------------------------+-----------------------------+----------------------+----------------+--------+---------+\n",
            "|INJURIES_TOTAL|INJURIES_FATAL|INJURIES_INCAPACITATING|INJURIES_NON_INCAPACITATING|INJURIES_REPORTED_NOT_EVIDENT|INJURIES_NO_INDICATION|INJURIES_UNKNOWN|LATITUDE|LONGITUDE|\n",
            "+--------------+--------------+-----------------------+---------------------------+-----------------------------+----------------------+----------------+--------+---------+\n",
            "|             0|             0|                      0|                          0|                            0|                     0|               0|       0|        0|\n",
            "+--------------+--------------+-----------------------+---------------------------+-----------------------------+----------------------+----------------+--------+---------+\n",
            "\n"
          ]
        }
      ]
    },
    {
      "cell_type": "markdown",
      "source": [
        "#4. Standardizing Numerical Columns in PySpark\n",
        "\n",
        "This PySpark implementation standardizes numerical columns in a DataFrame using pyspark.ml.feature.StandardScaler. The process ensures that all numerical columns have a mean of 0 and a standard deviation of 1. This is a common preprocessing step in machine learning pipelines to improve model performance and stability."
      ],
      "metadata": {
        "id": "MjUvt-N4BqP-"
      }
    },
    {
      "cell_type": "code",
      "source": [
        "\n",
        "\n",
        "# ### Step 1: Identify Numerical Columns\n",
        "# Identify all numerical columns from the schema (IntegerType and DoubleType).\n",
        "num_cols = [field.name for field in filtered_crashes.schema.fields if isinstance(field.dataType, (IntegerType, DoubleType))]\n",
        "print(\"All numerical columns:\", num_cols)\n",
        "\n",
        "# ### Step 2: Assemble Numerical Columns into a Feature Vector\n",
        "# The `VectorAssembler` combines all numerical columns into a single feature vector\n",
        "# required for the `StandardScaler`.\n",
        "assembler = VectorAssembler(inputCols=num_cols, outputCol=\"features_vector\")\n",
        "filtered_crashes_vectorized = assembler.transform(filtered_crashes)\n",
        "\n",
        "# ### Step 3: Apply StandardScaler to the Feature Vector\n",
        "# The `StandardScaler` scales numerical columns to have mean 0 and standard deviation 1.\n",
        "scaler = StandardScaler(inputCol=\"features_vector\", outputCol=\"scaled_features\", withMean=True, withStd=True)\n",
        "scaler_model = scaler.fit(filtered_crashes_vectorized)\n",
        "filtered_crashes_scaled = scaler_model.transform(filtered_crashes_vectorized)\n",
        "\n",
        "# ### Step 4: Extract Scaled Values into Individual Columns\n",
        "# Convert the scaled features vector to an array for easy extraction of individual columns.\n",
        "filtered_crashes_scaled = filtered_crashes_scaled.withColumn(\"scaled_array\", vector_to_array(col(\"scaled_features\")))\n",
        "\n",
        "# Extract individual scaled columns with a `scaled_` prefix\n",
        "scaled_columns = [f\"scaled_{col_name}\" for col_name in num_cols]\n",
        "for i, col_name in enumerate(num_cols):\n",
        "    filtered_crashes_scaled = filtered_crashes_scaled.withColumn(scaled_columns[i], col(\"scaled_array\")[i])\n",
        "\n",
        "# ### Step 5: Clean Up Intermediate Columns\n",
        "# Drop intermediate columns (`features_vector`, `scaled_features`, and `scaled_array`) for a cleaner final DataFrame.\n",
        "filtered_crashes_scaled = filtered_crashes_scaled.drop(\"features_vector\", \"scaled_features\", \"scaled_array\")\n",
        "\n",
        "# ### Step 6: Display Final Results\n",
        "print(\"Final DataFrame after handling missing values and standardizing numerical columns:\")\n",
        "print(f\"DataFrame contains {filtered_crashes_scaled.count()} rows and {len(filtered_crashes_scaled.columns)} columns.\")\n",
        "\n",
        "# Display summary statistics for scaled columns\n",
        "for col_name in scaled_columns:\n",
        "    print(f\"Summary statistics for {col_name}:\")\n",
        "    filtered_crashes_scaled.select(col_name).describe().show()\n"
      ],
      "metadata": {
        "colab": {
          "base_uri": "https://localhost:8080/"
        },
        "id": "1oit2cr-B05-",
        "outputId": "dc13174a-599f-4b8a-b43e-ba6e003428a0"
      },
      "execution_count": 14,
      "outputs": [
        {
          "output_type": "stream",
          "name": "stdout",
          "text": [
            "All numerical columns: ['POSTED_SPEED_LIMIT', 'STREET_NO', 'BEAT_OF_OCCURRENCE', 'NUM_UNITS', 'INJURIES_TOTAL', 'INJURIES_FATAL', 'INJURIES_INCAPACITATING', 'INJURIES_NON_INCAPACITATING', 'INJURIES_REPORTED_NOT_EVIDENT', 'INJURIES_NO_INDICATION', 'INJURIES_UNKNOWN', 'CRASH_HOUR', 'CRASH_DAY_OF_WEEK', 'CRASH_MONTH', 'LATITUDE', 'LONGITUDE']\n",
            "Final DataFrame after handling missing values and standardizing numerical columns:\n",
            "DataFrame contains 66212 rows and 53 columns.\n",
            "Summary statistics for scaled_POSTED_SPEED_LIMIT:\n",
            "+-------+-------------------------+\n",
            "|summary|scaled_POSTED_SPEED_LIMIT|\n",
            "+-------+-------------------------+\n",
            "|  count|                    66212|\n",
            "|   mean|     1.734397344190590...|\n",
            "| stddev|       0.9999999999999996|\n",
            "|    min|       -5.151340343790245|\n",
            "|    max|        7.437995826534728|\n",
            "+-------+-------------------------+\n",
            "\n",
            "Summary statistics for scaled_STREET_NO:\n",
            "+-------+--------------------+\n",
            "|summary|    scaled_STREET_NO|\n",
            "+-------+--------------------+\n",
            "|  count|               66212|\n",
            "|   mean|-1.18259242253312...|\n",
            "| stddev|  1.0000000000000016|\n",
            "|    min| -1.3120631386748127|\n",
            "|    max|  3.5796973525908946|\n",
            "+-------+--------------------+\n",
            "\n",
            "Summary statistics for scaled_BEAT_OF_OCCURRENCE:\n",
            "+-------+-------------------------+\n",
            "|summary|scaled_BEAT_OF_OCCURRENCE|\n",
            "+-------+-------------------------+\n",
            "|  count|                    66212|\n",
            "|   mean|     -4.01695095828128...|\n",
            "| stddev|       0.9999999999999992|\n",
            "|    min|       -1.642085083047244|\n",
            "|    max|        6.863142112308549|\n",
            "+-------+-------------------------+\n",
            "\n",
            "Summary statistics for scaled_NUM_UNITS:\n",
            "+-------+--------------------+\n",
            "|summary|    scaled_NUM_UNITS|\n",
            "+-------+--------------------+\n",
            "|  count|               66212|\n",
            "|   mean|-1.81402380313066...|\n",
            "| stddev|   1.000000000000002|\n",
            "|    min| -2.3289808455038368|\n",
            "|    max|  35.748905387864795|\n",
            "+-------+--------------------+\n",
            "\n",
            "Summary statistics for scaled_INJURIES_TOTAL:\n",
            "+-------+---------------------+\n",
            "|summary|scaled_INJURIES_TOTAL|\n",
            "+-------+---------------------+\n",
            "|  count|                66212|\n",
            "|   mean| -1.99173460637157...|\n",
            "| stddev|   0.9999999999999993|\n",
            "|    min| -0.35972977700747694|\n",
            "|    max|    33.56505236485363|\n",
            "+-------+---------------------+\n",
            "\n",
            "Summary statistics for scaled_INJURIES_FATAL:\n",
            "+-------+---------------------+\n",
            "|summary|scaled_INJURIES_FATAL|\n",
            "+-------+---------------------+\n",
            "|  count|                66212|\n",
            "|   mean| 5.186236533228738...|\n",
            "| stddev|   0.9999999999999988|\n",
            "|    min| -0.03405378694387...|\n",
            "|    max|    53.65093052563015|\n",
            "+-------+---------------------+\n",
            "\n",
            "Summary statistics for scaled_INJURIES_INCAPACITATING:\n",
            "+-------+------------------------------+\n",
            "|summary|scaled_INJURIES_INCAPACITATING|\n",
            "+-------+------------------------------+\n",
            "|  count|                         66212|\n",
            "|   mean|          2.006758466548944...|\n",
            "| stddev|            1.0000000000000009|\n",
            "|    min|          -0.12012910523759857|\n",
            "|    max|             59.14953047741422|\n",
            "+-------+------------------------------+\n",
            "\n",
            "Summary statistics for scaled_INJURIES_NON_INCAPACITATING:\n",
            "+-------+----------------------------------+\n",
            "|summary|scaled_INJURIES_NON_INCAPACITATING|\n",
            "+-------+----------------------------------+\n",
            "|  count|                             66212|\n",
            "|   mean|              -2.03573305403387...|\n",
            "| stddev|                1.0000000000000013|\n",
            "|    min|              -0.27384745983297243|\n",
            "|    max|                25.706314465603345|\n",
            "+-------+----------------------------------+\n",
            "\n",
            "Summary statistics for scaled_INJURIES_REPORTED_NOT_EVIDENT:\n",
            "+-------+------------------------------------+\n",
            "|summary|scaled_INJURIES_REPORTED_NOT_EVIDENT|\n",
            "+-------+------------------------------------+\n",
            "|  count|                               66212|\n",
            "|   mean|                3.073452539142341...|\n",
            "| stddev|                  0.9999999999999989|\n",
            "|    min|                 -0.2078693386965105|\n",
            "|    max|                  30.420876603344137|\n",
            "+-------+------------------------------------+\n",
            "\n",
            "Summary statistics for scaled_INJURIES_NO_INDICATION:\n",
            "+-------+-----------------------------+\n",
            "|summary|scaled_INJURIES_NO_INDICATION|\n",
            "+-------+-----------------------------+\n",
            "|  count|                        66212|\n",
            "|   mean|         6.056761917220452...|\n",
            "| stddev|           1.0000000000000002|\n",
            "|    min|          -1.6944004368378311|\n",
            "|    max|           39.292484031427534|\n",
            "+-------+-----------------------------+\n",
            "\n",
            "Summary statistics for scaled_INJURIES_UNKNOWN:\n",
            "+-------+-----------------------+\n",
            "|summary|scaled_INJURIES_UNKNOWN|\n",
            "+-------+-----------------------+\n",
            "|  count|                  66212|\n",
            "|   mean|                    0.0|\n",
            "| stddev|                    0.0|\n",
            "|    min|                    0.0|\n",
            "|    max|                    0.0|\n",
            "+-------+-----------------------+\n",
            "\n",
            "Summary statistics for scaled_CRASH_HOUR:\n",
            "+-------+--------------------+\n",
            "|summary|   scaled_CRASH_HOUR|\n",
            "+-------+--------------------+\n",
            "|  count|               66212|\n",
            "|   mean|-3.13912827077485...|\n",
            "| stddev|  1.0000000000000007|\n",
            "|    min|  -2.317242849414957|\n",
            "|    max|   1.736906537438336|\n",
            "+-------+--------------------+\n",
            "\n",
            "Summary statistics for scaled_CRASH_DAY_OF_WEEK:\n",
            "+-------+------------------------+\n",
            "|summary|scaled_CRASH_DAY_OF_WEEK|\n",
            "+-------+------------------------+\n",
            "|  count|                   66212|\n",
            "|   mean|    7.658305412128283...|\n",
            "| stddev|      0.9999999999999988|\n",
            "|    min|     -1.5752156212225499|\n",
            "|    max|       1.440635271665778|\n",
            "+-------+------------------------+\n",
            "\n",
            "Summary statistics for scaled_CRASH_MONTH:\n",
            "+-------+--------------------+\n",
            "|summary|  scaled_CRASH_MONTH|\n",
            "+-------+--------------------+\n",
            "|  count|               66212|\n",
            "|   mean|-1.35094550714927...|\n",
            "| stddev|  0.9999999999999977|\n",
            "|    min| -1.4914325067408154|\n",
            "|    max|  1.5437361286366036|\n",
            "+-------+--------------------+\n",
            "\n",
            "Summary statistics for scaled_LATITUDE:\n",
            "+-------+--------------------+\n",
            "|summary|     scaled_LATITUDE|\n",
            "+-------+--------------------+\n",
            "|  count|               66212|\n",
            "|   mean|-2.80324197505509...|\n",
            "| stddev|  0.9999999999999987|\n",
            "|    min| -102.68111344855049|\n",
            "|    max|  0.4077677702812992|\n",
            "+-------+--------------------+\n",
            "\n",
            "Summary statistics for scaled_LONGITUDE:\n",
            "+-------+--------------------+\n",
            "|summary|    scaled_LONGITUDE|\n",
            "+-------+--------------------+\n",
            "|  count|               66212|\n",
            "|   mean|6.519368034739125...|\n",
            "| stddev|   1.000000000000002|\n",
            "|    min|  -0.292364433963867|\n",
            "|    max|  104.78531270355582|\n",
            "+-------+--------------------+\n",
            "\n"
          ]
        }
      ]
    },
    {
      "cell_type": "markdown",
      "source": [
        "# 5. Dealing with Categorical Values and Inconsistencies - Mapping\n",
        "\n",
        "Mapping categorical values helps simplify data by consolidating similar or rare categories into broader, meaningful groups. This process reduces the dimensionality of categorical columns, enhances interpretability, and improves the efficiency of downstream analysis. By grouping related values (e.g., consolidating traffic control types or weather conditions), we ensure a cleaner dataset that focuses on key patterns while minimizing noise. This technique is especially useful when dealing with columns containing too many unique or inconsistent values."
      ],
      "metadata": {
        "id": "jWHb_vzPJLDB"
      }
    },
    {
      "cell_type": "code",
      "source": [
        "\n",
        "# Define the mapping for `TRAFFIC_CONTROL_DEVICE`\n",
        "traffic_control_mapping = {\n",
        "    'TRAFFIC SIGNAL': 'SIGNAL',\n",
        "    'FLASHING CONTROL SIGNAL': 'SIGNAL',\n",
        "    'RAILROAD CROSSING GATE': 'SIGNAL',\n",
        "    'STOP SIGN/FLASHER': 'STOP SIGN',\n",
        "    'STOP SIGN': 'STOP SIGN',\n",
        "    'YIELD': 'YIELD',\n",
        "    'UNKNOWN': 'OTHER',\n",
        "    'OTHER REG. SIGN': 'OTHER',\n",
        "    'WARNING SIGN': 'WARNING SIGN',\n",
        "    'OTHER WARNING SIGN': 'WARNING SIGN',\n",
        "    'OTHER SIGN': 'WARNING SIGN',\n",
        "    'BICYCLE CROSSING SIGN': 'CROSSING SIGN',\n",
        "    'PEDESTRIAN CROSSING SIGN': 'CROSSING SIGN',\n",
        "    'RR CROSSING SIGN': 'CROSSING SIGN',\n",
        "    'OTHER RAILROAD CROSSING': 'CROSSING SIGN',\n",
        "    'POLICE/FLAGMAN': 'POLICE',\n",
        "    'SCHOOL ZONE': 'SCHOOL ZONE',\n",
        "    'NO CONTROLS': 'NO CONTROLS',\n",
        "    'NO PASSING': 'OTHER',\n",
        "}\n",
        "\n",
        "# Replace categories in `TRAFFIC_CONTROL_DEVICE` using the mapping\n",
        "mapped_column = when(col(\"TRAFFIC_CONTROL_DEVICE\").isNull(), \"OTHER\")  # Handle null values first\n",
        "for key, value in traffic_control_mapping.items():\n",
        "    mapped_column = mapped_column.when(col(\"TRAFFIC_CONTROL_DEVICE\") == key, value)\n",
        "\n",
        "# Apply the mapping to create a new column\n",
        "filtered_crashes = filtered_crashes.withColumn(\"TRAFFIC_CONTROL_DEVICE\", mapped_column)\n",
        "\n",
        "# Group by `TRAFFIC_CONTROL_DEVICE` and count occurrences\n",
        "merged_counts = (\n",
        "    filtered_crashes.groupBy(\"TRAFFIC_CONTROL_DEVICE\")\n",
        "    .count()\n",
        "    .orderBy(col(\"count\").desc())\n",
        ")\n",
        "\n",
        "# Display the mapped counts\n",
        "merged_counts.show(truncate=False)\n"
      ],
      "metadata": {
        "colab": {
          "base_uri": "https://localhost:8080/"
        },
        "id": "BQ_jlhPrFUAP",
        "outputId": "6d6d6b3b-8716-44f5-b5ff-4afb847ae7cf"
      },
      "execution_count": 15,
      "outputs": [
        {
          "output_type": "stream",
          "name": "stdout",
          "text": [
            "+----------------------+-----+\n",
            "|TRAFFIC_CONTROL_DEVICE|count|\n",
            "+----------------------+-----+\n",
            "|NO CONTROLS           |35719|\n",
            "|SIGNAL                |18510|\n",
            "|STOP SIGN             |6515 |\n",
            "|OTHER                 |4573 |\n",
            "|NULL                  |567  |\n",
            "|YIELD                 |129  |\n",
            "|CROSSING SIGN         |113  |\n",
            "|WARNING SIGN          |46   |\n",
            "|POLICE                |22   |\n",
            "|SCHOOL ZONE           |18   |\n",
            "+----------------------+-----+\n",
            "\n"
          ]
        }
      ]
    },
    {
      "cell_type": "code",
      "source": [
        "# Define the mapping for `WEATHER_CONDITION`\n",
        "weather_mapping = {\n",
        "    'CLEAR': 'CLEAR',\n",
        "    'RAIN': 'RAIN',\n",
        "    'FREEZING RAIN/DRIZZLE': 'RAIN',\n",
        "    'CLOUDY/OVERCAST': 'CLOUDY/OVERCAST',\n",
        "    'SNOW': 'SNOW',\n",
        "    'SLEET/HAIL': 'SNOW',\n",
        "    'BLOWING SNOW': 'SNOW',\n",
        "    'FOG/SMOKE/HAZE': 'FOG/SMOKE/HAZE',\n",
        "    'UNKNOWN': 'OTHER',\n",
        "    'OTHER': 'OTHER',\n",
        "    'SEVERE CROSS WIND GATE': 'OTHER',\n",
        "    'BLOWING SAND, SOIL, DIRT': 'OTHER',\n",
        "}\n",
        "\n",
        "# Replace values in `WEATHER_CONDITION` using the mapping\n",
        "weather_column = when(col(\"WEATHER_CONDITION\").isNull(), \"OTHER\")  # Handle null values first\n",
        "for key, value in weather_mapping.items():\n",
        "    weather_column = weather_column.when(col(\"WEATHER_CONDITION\") == key, value)\n",
        "\n",
        "# Apply the mapping to create a new column\n",
        "filtered_crashes = filtered_crashes.withColumn(\"WEATHER_CONDITION\", weather_column)\n",
        "\n",
        "# Group by `WEATHER_CONDITION` and count occurrences\n",
        "weather_counts = (\n",
        "    filtered_crashes.groupBy(\"WEATHER_CONDITION\")\n",
        "    .count()\n",
        "    .orderBy(col(\"count\").desc())\n",
        ")\n",
        "\n",
        "# Display the mapped counts\n",
        "weather_counts.show(truncate=False)\n"
      ],
      "metadata": {
        "colab": {
          "base_uri": "https://localhost:8080/"
        },
        "id": "lLFUW5F3KZwN",
        "outputId": "cafa1cb3-67cb-4b1c-aabb-48e84537589e"
      },
      "execution_count": 16,
      "outputs": [
        {
          "output_type": "stream",
          "name": "stdout",
          "text": [
            "+-----------------+-----+\n",
            "|WEATHER_CONDITION|count|\n",
            "+-----------------+-----+\n",
            "|CLEAR            |51197|\n",
            "|RAIN             |7014 |\n",
            "|OTHER            |5647 |\n",
            "|CLOUDY/OVERCAST  |1810 |\n",
            "|SNOW             |370  |\n",
            "|FOG/SMOKE/HAZE   |174  |\n",
            "+-----------------+-----+\n",
            "\n"
          ]
        }
      ]
    },
    {
      "cell_type": "code",
      "source": [
        "# Define the mapping for `PRIM_CONTRIBUTORY_CAUSE`\n",
        "primary_cause_mapping = {\n",
        "    'UNABLE TO DETERMINE': 'UNKNOWN',\n",
        "    'FAILING TO YIELD RIGHT-OF-WAY': 'YIELDING ISSUES',\n",
        "    'FOLLOWING TOO CLOSELY': 'FOLLOWING TOO CLOSELY',\n",
        "    'IMPROPER OVERTAKING/PASSING': 'OVERTAKING ISSUES',\n",
        "    'NOT APPLICABLE': 'NOT APPLICABLE',\n",
        "    'FAILING TO REDUCE SPEED TO AVOID CRASH': 'SPEEDING',\n",
        "    'DRIVING SKILLS/KNOWLEDGE/EXPERIENCE': 'DRIVING SKILLS',\n",
        "    'IMPROPER TURNING/NO SIGNAL': 'TURNING ISSUES',\n",
        "    'IMPROPER BACKING': 'BACKING ISSUES',\n",
        "    'IMPROPER LANE USAGE': 'LANE USAGE',\n",
        "    'DISREGARDING TRAFFIC SIGNALS': 'SIGNAL ISSUES',\n",
        "    'OPERATING VEHICLE IN ERRATIC, RECKLESS, CARELESS, NEGLIGENT OR AGGRESSIVE MANNER': 'DRIVING SKILLS',\n",
        "    'DISREGARDING STOP SIGN': 'SIGNAL ISSUES',\n",
        "    'WEATHER': 'WEATHER',\n",
        "    'DRIVING ON WRONG SIDE/WRONG WAY': 'DRIVING SKILLS',\n",
        "    'DISTRACTION - FROM INSIDE VEHICLE': 'DISTRACTION',\n",
        "    'VISION OBSCURED (SIGNS, TREE LIMBS, BUILDINGS, ETC.)': 'OBSTRUCTED VIEW',\n",
        "    'EQUIPMENT - VEHICLE CONDITION': 'VEHICLE CONDITION',\n",
        "    'PHYSICAL CONDITION OF DRIVER': 'PHYSICAL CONDITION',\n",
        "    'UNDER THE INFLUENCE OF ALCOHOL/DRUGS (USE WHEN ARREST IS EFFECTED)': 'UNDER INFLUENCE',\n",
        "    'DISTRACTION - FROM OUTSIDE VEHICLE': 'DISTRACTION',\n",
        "    'DISREGARDING OTHER TRAFFIC SIGNS': 'SIGNAL ISSUES',\n",
        "    'ROAD CONSTRUCTION/MAINTENANCE': 'ROAD CONDITIONS',\n",
        "    'EVASIVE ACTION DUE TO ANIMAL, OBJECT, NONMOTORIST': 'EVASIVE ACTION',\n",
        "    'CELL PHONE USE OTHER THAN TEXTING': 'DISTRACTION',\n",
        "    'TURNING RIGHT ON RED': 'TURNING ISSUES',\n",
        "    'ROAD ENGINEERING/SURFACE/MARKING DEFECTS': 'ROAD CONDITIONS',\n",
        "    'ANIMAL': 'ANIMALS',\n",
        "    'HAD BEEN DRINKING (USE WHEN ARREST IS NOT MADE)': 'UNDER INFLUENCE',\n",
        "    'RELATED TO BUS STOP': 'BUS STOP ISSUES',\n",
        "    'DISREGARDING ROAD MARKINGS': 'SIGNAL ISSUES',\n",
        "    'DISTRACTION - OTHER ELECTRONIC DEVICE (NAVIGATION DEVICE, DVD PLAYER, ETC.)': 'DISTRACTION',\n",
        "    'OBSTRUCTED CROSSWALKS': 'OBSTRUCTED VIEW',\n",
        "    'TEXTING': 'DISTRACTION',\n",
        "    'DISREGARDING YIELD SIGN': 'SIGNAL ISSUES',\n",
        "    'PASSING STOPPED SCHOOL BUS': 'SIGNAL ISSUES',\n",
        "    'BICYCLE ADVANCING LEGALLY ON RED LIGHT': 'SIGNAL ISSUES',\n",
        "    'MOTORCYCLE ADVANCING LEGALLY ON RED LIGHT': 'SIGNAL ISSUES',\n",
        "}\n",
        "\n",
        "# Replace values in `PRIM_CONTRIBUTORY_CAUSE` using the mapping\n",
        "cause_column = when(col(\"PRIM_CONTRIBUTORY_CAUSE\").isNull(), \"UNKNOWN\")  # Handle null values first\n",
        "for key, value in primary_cause_mapping.items():\n",
        "    cause_column = cause_column.when(col(\"PRIM_CONTRIBUTORY_CAUSE\") == key, value)\n",
        "\n",
        "# Apply the mapping to create a new column\n",
        "filtered_crashes = filtered_crashes.withColumn(\"PRIM_CONTRIBUTORY_CAUSE\", cause_column)\n",
        "\n",
        "# Group by `PRIM_CONTRIBUTORY_CAUSE` and count occurrences\n",
        "cause_counts = (\n",
        "    filtered_crashes.groupBy(\"PRIM_CONTRIBUTORY_CAUSE\")\n",
        "    .count()\n",
        "    .orderBy(col(\"count\").desc())\n",
        ")\n",
        "\n",
        "# Display the mapped counts\n",
        "cause_counts.show(truncate=False)\n"
      ],
      "metadata": {
        "colab": {
          "base_uri": "https://localhost:8080/"
        },
        "id": "f03kSCxKKuje",
        "outputId": "b2173e3e-1f1e-48c1-d653-25b99a3be104"
      },
      "execution_count": 17,
      "outputs": [
        {
          "output_type": "stream",
          "name": "stdout",
          "text": [
            "+-----------------------+-----+\n",
            "|PRIM_CONTRIBUTORY_CAUSE|count|\n",
            "+-----------------------+-----+\n",
            "|UNKNOWN                |27733|\n",
            "|YIELDING ISSUES        |7578 |\n",
            "|FOLLOWING TOO CLOSELY  |5469 |\n",
            "|DRIVING SKILLS         |3878 |\n",
            "|OVERTAKING ISSUES      |3650 |\n",
            "|NOT APPLICABLE         |3623 |\n",
            "|SPEEDING               |2683 |\n",
            "|TURNING ISSUES         |2371 |\n",
            "|SIGNAL ISSUES          |2186 |\n",
            "|BACKING ISSUES         |2089 |\n",
            "|LANE USAGE             |1948 |\n",
            "|DISTRACTION            |759  |\n",
            "|WEATHER                |505  |\n",
            "|OBSTRUCTED VIEW        |396  |\n",
            "|VEHICLE CONDITION      |359  |\n",
            "|PHYSICAL CONDITION     |315  |\n",
            "|UNDER INFLUENCE        |276  |\n",
            "|ROAD CONDITIONS        |178  |\n",
            "|EVASIVE ACTION         |100  |\n",
            "|ANIMALS                |59   |\n",
            "+-----------------------+-----+\n",
            "only showing top 20 rows\n",
            "\n"
          ]
        }
      ]
    },
    {
      "cell_type": "markdown",
      "source": [
        "# 6. Windowing Operations for Rolling Metrics and Ranking\n",
        "Windowing operations allow the calculation of metrics like rolling averages and rankings within defined partitions of the data. In this example, we use the CRASH_HOUR column to group rows and calculate the rolling average of POSTED_SPEED_LIMIT and rank crashes based on CRASH_DATE within each hour. This technique is useful for understanding trends and patterns over time or across categorical segments of the data. The results provide deeper insights into speed variations and event chronology."
      ],
      "metadata": {
        "id": "JuojgmRNLP3b"
      }
    },
    {
      "cell_type": "code",
      "source": [
        "\n",
        "\n",
        "# Step 1: Define a Window Specification\n",
        "# Partition the data by a categorical column (e.g., 'TRAFFIC_CONTROL_DEVICE')\n",
        "# and order rows within each partition by a numerical column (e.g., 'CRASH_DATE').\n",
        "window_spec = Window.partitionBy(\"CRASH_HOUR\").orderBy(col(\"CRASH_DATE\"))\n",
        "\n",
        "# Step 2: Calculate Rolling Average\n",
        "# Add a new column that computes the rolling average of 'POSTED_SPEED_LIMIT' within the window\n",
        "filtered_crashes = filtered_crashes.withColumn(\n",
        "    \"rolling_avg_speed\", avg(col(\"POSTED_SPEED_LIMIT\")).over(window_spec)\n",
        ")\n",
        "\n",
        "# Step 3: Calculate Rank\n",
        "# Add a column for ranking within each partition based on 'CRASH_DATE'\n",
        "filtered_crashes = filtered_crashes.withColumn(\n",
        "    \"rank\", rank().over(window_spec)\n",
        ")\n",
        "\n",
        "# Step 4: Display the Results\n",
        "filtered_crashes.select(\n",
        "    \"TRAFFIC_CONTROL_DEVICE\", \"CRASH_DATE\", \"POSTED_SPEED_LIMIT\", \"rolling_avg_speed\", \"rank\"\n",
        ").show(truncate=False)\n"
      ],
      "metadata": {
        "colab": {
          "base_uri": "https://localhost:8080/"
        },
        "id": "0ikvMq_3LQA3",
        "outputId": "6b10f725-2756-42ea-8e7f-0b96b7c445d1"
      },
      "execution_count": 18,
      "outputs": [
        {
          "output_type": "stream",
          "name": "stdout",
          "text": [
            "+----------------------+-------------------+------------------+------------------+----+\n",
            "|TRAFFIC_CONTROL_DEVICE|CRASH_DATE         |POSTED_SPEED_LIMIT|rolling_avg_speed |rank|\n",
            "+----------------------+-------------------+------------------+------------------+----+\n",
            "|SIGNAL                |2023-06-01 00:30:00|30                |30.0              |1   |\n",
            "|NO CONTROLS           |2023-06-01 00:43:00|15                |22.5              |2   |\n",
            "|NO CONTROLS           |2023-06-02 00:10:00|30                |27.5              |3   |\n",
            "|NO CONTROLS           |2023-06-02 00:10:00|35                |27.5              |3   |\n",
            "|NO CONTROLS           |2023-06-02 00:45:00|30                |28.0              |5   |\n",
            "|SIGNAL                |2023-06-03 00:00:00|35                |29.166666666666668|6   |\n",
            "|NO CONTROLS           |2023-06-03 00:01:00|10                |26.428571428571427|7   |\n",
            "|NO CONTROLS           |2023-06-03 00:03:00|30                |26.875            |8   |\n",
            "|NO CONTROLS           |2023-06-03 00:05:00|30                |27.22222222222222 |9   |\n",
            "|SIGNAL                |2023-06-03 00:18:00|30                |27.5              |10  |\n",
            "|NO CONTROLS           |2023-06-03 00:28:00|30                |27.727272727272727|11  |\n",
            "|SIGNAL                |2023-06-03 00:30:00|30                |28.125            |12  |\n",
            "|NULL                  |2023-06-03 00:30:00|30                |28.125            |12  |\n",
            "|SIGNAL                |2023-06-03 00:30:00|35                |28.125            |12  |\n",
            "|OTHER                 |2023-06-03 00:30:00|30                |28.125            |12  |\n",
            "|NO CONTROLS           |2023-06-03 00:30:00|20                |28.125            |12  |\n",
            "|NO CONTROLS           |2023-06-03 00:35:00|30                |28.235294117647058|17  |\n",
            "|NO CONTROLS           |2023-06-03 00:50:00|30                |28.42105263157895 |18  |\n",
            "|SIGNAL                |2023-06-03 00:50:00|30                |28.42105263157895 |18  |\n",
            "|STOP SIGN             |2023-06-04 00:00:00|25                |28.181818181818183|20  |\n",
            "+----------------------+-------------------+------------------+------------------+----+\n",
            "only showing top 20 rows\n",
            "\n"
          ]
        }
      ]
    },
    {
      "cell_type": "markdown",
      "source": [
        "# 7. Removing Redundant Columns/Rows\n",
        "\n",
        "In this section, unnecessary columns such as LOCATION, SEC_CONTRIBUTORY_CAUSE, and others were removed to simplify the dataset. These columns were either irrelevant for analysis, contained duplicate information, or added unnecessary complexity. By reducing the dataset to 31 columns, we improved its focus and efficiency, ensuring only meaningful features remain for further modeling and analysis. This step is crucial for optimizing performance and maintaining data quality."
      ],
      "metadata": {
        "id": "xULzQYnhaA_4"
      }
    },
    {
      "cell_type": "code",
      "source": [
        "# Step 1: Define the list of redundant columns\n",
        "redundant_cols = ['CRASH_RECORD_ID', 'LOCATION', 'CRASH_DATE', 'SEC_CONTRIBUTORY_CAUSE', 'DATE_POLICE_NOTIFIED', 'STREET_DIRECTION', 'STREET_NAME', 'STREET_NO']\n",
        "\n",
        "# Step 2: Drop the redundant columns\n",
        "filtered_crashes = filtered_crashes.drop(*redundant_cols)\n",
        "filtered_crashes = filtered_crashes.dropna()\n",
        "\n",
        "# Step 3: Display the updated schema and DataFrame shape\n",
        "print(f\"Updated DataFrame contains {filtered_crashes.count()} rows and {len(filtered_crashes.columns)} columns.\")\n",
        "filtered_crashes.printSchema()"
      ],
      "metadata": {
        "colab": {
          "base_uri": "https://localhost:8080/"
        },
        "id": "aDWfM3NWZ_RV",
        "outputId": "d3b2974b-83c4-4d00-a3f6-fe7a7abb87f5"
      },
      "execution_count": 19,
      "outputs": [
        {
          "output_type": "stream",
          "name": "stdout",
          "text": [
            "Updated DataFrame contains 65645 rows and 31 columns.\n",
            "root\n",
            " |-- POSTED_SPEED_LIMIT: integer (nullable = true)\n",
            " |-- TRAFFIC_CONTROL_DEVICE: string (nullable = true)\n",
            " |-- DEVICE_CONDITION: string (nullable = true)\n",
            " |-- WEATHER_CONDITION: string (nullable = true)\n",
            " |-- LIGHTING_CONDITION: string (nullable = true)\n",
            " |-- FIRST_CRASH_TYPE: string (nullable = true)\n",
            " |-- TRAFFICWAY_TYPE: string (nullable = true)\n",
            " |-- ALIGNMENT: string (nullable = true)\n",
            " |-- ROADWAY_SURFACE_COND: string (nullable = true)\n",
            " |-- ROAD_DEFECT: string (nullable = true)\n",
            " |-- REPORT_TYPE: string (nullable = false)\n",
            " |-- CRASH_TYPE: string (nullable = true)\n",
            " |-- DAMAGE: string (nullable = true)\n",
            " |-- PRIM_CONTRIBUTORY_CAUSE: string (nullable = true)\n",
            " |-- BEAT_OF_OCCURRENCE: integer (nullable = true)\n",
            " |-- NUM_UNITS: integer (nullable = true)\n",
            " |-- MOST_SEVERE_INJURY: string (nullable = false)\n",
            " |-- INJURIES_TOTAL: integer (nullable = true)\n",
            " |-- INJURIES_FATAL: integer (nullable = true)\n",
            " |-- INJURIES_INCAPACITATING: integer (nullable = true)\n",
            " |-- INJURIES_NON_INCAPACITATING: integer (nullable = true)\n",
            " |-- INJURIES_REPORTED_NOT_EVIDENT: integer (nullable = true)\n",
            " |-- INJURIES_NO_INDICATION: integer (nullable = true)\n",
            " |-- INJURIES_UNKNOWN: integer (nullable = true)\n",
            " |-- CRASH_HOUR: integer (nullable = true)\n",
            " |-- CRASH_DAY_OF_WEEK: integer (nullable = true)\n",
            " |-- CRASH_MONTH: integer (nullable = true)\n",
            " |-- LATITUDE: double (nullable = true)\n",
            " |-- LONGITUDE: double (nullable = true)\n",
            " |-- rolling_avg_speed: double (nullable = true)\n",
            " |-- rank: integer (nullable = false)\n",
            "\n"
          ]
        }
      ]
    },
    {
      "cell_type": "code",
      "source": [
        "# Calculate the number of null values in each column\n",
        "null_counts = filtered_crashes.select(\n",
        "    *[sum(when(col(c).isNull(), 1).otherwise(0)).alias(c) for c in filtered_crashes.columns]\n",
        ")\n",
        "\n",
        "# Show the result\n",
        "null_counts.show()"
      ],
      "metadata": {
        "colab": {
          "base_uri": "https://localhost:8080/"
        },
        "id": "_TQHpFnzhBYi",
        "outputId": "8d11d738-543a-4aa3-8ed5-087ae664dc35"
      },
      "execution_count": 20,
      "outputs": [
        {
          "output_type": "stream",
          "name": "stdout",
          "text": [
            "+------------------+----------------------+----------------+-----------------+------------------+----------------+---------------+---------+--------------------+-----------+-----------+----------+------+-----------------------+------------------+---------+------------------+--------------+--------------+-----------------------+---------------------------+-----------------------------+----------------------+----------------+----------+-----------------+-----------+--------+---------+-----------------+----+\n",
            "|POSTED_SPEED_LIMIT|TRAFFIC_CONTROL_DEVICE|DEVICE_CONDITION|WEATHER_CONDITION|LIGHTING_CONDITION|FIRST_CRASH_TYPE|TRAFFICWAY_TYPE|ALIGNMENT|ROADWAY_SURFACE_COND|ROAD_DEFECT|REPORT_TYPE|CRASH_TYPE|DAMAGE|PRIM_CONTRIBUTORY_CAUSE|BEAT_OF_OCCURRENCE|NUM_UNITS|MOST_SEVERE_INJURY|INJURIES_TOTAL|INJURIES_FATAL|INJURIES_INCAPACITATING|INJURIES_NON_INCAPACITATING|INJURIES_REPORTED_NOT_EVIDENT|INJURIES_NO_INDICATION|INJURIES_UNKNOWN|CRASH_HOUR|CRASH_DAY_OF_WEEK|CRASH_MONTH|LATITUDE|LONGITUDE|rolling_avg_speed|rank|\n",
            "+------------------+----------------------+----------------+-----------------+------------------+----------------+---------------+---------+--------------------+-----------+-----------+----------+------+-----------------------+------------------+---------+------------------+--------------+--------------+-----------------------+---------------------------+-----------------------------+----------------------+----------------+----------+-----------------+-----------+--------+---------+-----------------+----+\n",
            "|                 0|                     0|               0|                0|                 0|               0|              0|        0|                   0|          0|          0|         0|     0|                      0|                 0|        0|                 0|             0|             0|                      0|                          0|                            0|                     0|               0|         0|                0|          0|       0|        0|                0|   0|\n",
            "+------------------+----------------------+----------------+-----------------+------------------+----------------+---------------+---------+--------------------+-----------+-----------+----------+------+-----------------------+------------------+---------+------------------+--------------+--------------+-----------------------+---------------------------+-----------------------------+----------------------+----------------+----------+-----------------+-----------+--------+---------+-----------------+----+\n",
            "\n"
          ]
        }
      ]
    },
    {
      "cell_type": "markdown",
      "source": [
        "# 8. Encoding Data\n",
        "\n",
        "Encoding transforms categorical data into numerical formats, making it usable for machine learning models that operate on numerical inputs. It ensures the relationships or distinctions between categories are preserved. For example, ordinal encoding captures the order of categories, while nominal encoding treats all categories as equally distinct. This step is crucial for accurate model training and predictions."
      ],
      "metadata": {
        "id": "jEtinWGEOqAm"
      }
    },
    {
      "cell_type": "code",
      "source": [
        "# Categorical Encoding\n",
        "\n",
        "# Identify categorical columns\n",
        "cat_cols = [field.name for field in filtered_crashes.schema.fields if isinstance(field.dataType, StringType)]\n",
        "print(\"Categorical Columns:\", cat_cols)\n"
      ],
      "metadata": {
        "colab": {
          "base_uri": "https://localhost:8080/"
        },
        "id": "630kynY4OdSO",
        "outputId": "19022bec-def9-43cd-f6e2-c07ce3c2fc57"
      },
      "execution_count": 21,
      "outputs": [
        {
          "output_type": "stream",
          "name": "stdout",
          "text": [
            "Categorical Columns: ['TRAFFIC_CONTROL_DEVICE', 'DEVICE_CONDITION', 'WEATHER_CONDITION', 'LIGHTING_CONDITION', 'FIRST_CRASH_TYPE', 'TRAFFICWAY_TYPE', 'ALIGNMENT', 'ROADWAY_SURFACE_COND', 'ROAD_DEFECT', 'REPORT_TYPE', 'CRASH_TYPE', 'DAMAGE', 'PRIM_CONTRIBUTORY_CAUSE', 'MOST_SEVERE_INJURY']\n"
          ]
        }
      ]
    },
    {
      "cell_type": "markdown",
      "source": [
        "## Ordinal Encoding\n",
        "\n",
        "Ordinal encoding was applied to columns with a natural order, such as LIGHTING_CONDITION, MOST_SEVERE_INJURY, and DAMAGE. Each category was mapped to an integer value based on its rank or severity. This process preserves the ordinal relationships between categories, enabling models to interpret the increasing or decreasing trend in values. For example, DAYLIGHT was encoded as 1 and DARKNESS as 3, reflecting their relative significance."
      ],
      "metadata": {
        "id": "4ckgxCMda3Eh"
      }
    },
    {
      "cell_type": "code",
      "source": [
        "# 8.1 Ordinal Encoding\n",
        "\n",
        "# Define the ordinal mappings for each column\n",
        "lighting_condition_mapping = {\n",
        "    'DAYLIGHT': 1,\n",
        "    'DARKNESS, LIGHTED ROAD': 2,\n",
        "    'DARKNESS': 3,\n",
        "    'DUSK': 4,\n",
        "    'DAWN': 5,\n",
        "    'UNKNOWN': 6\n",
        "}\n",
        "\n",
        "most_severe_injury_mapping = {\n",
        "    'NO INDICATION OF INJURY': 1,\n",
        "    'NONINCAPACITATING INJURY': 2,\n",
        "    'REPORTED, NOT EVIDENT': 3,\n",
        "    'INCAPACITATING INJURY': 4,\n",
        "    'FATAL': 5\n",
        "}\n",
        "\n",
        "report_type_mapping = {\n",
        "    'NOT ON SCENE (DESK REPORT)': 1,\n",
        "    'ON SCENE': 2\n",
        "}\n",
        "\n",
        "crash_type_mapping = {\n",
        "    'NO INJURY / DRIVE AWAY': 0,\n",
        "    'INJURY AND / OR TOW DUE TO CRASH': 1\n",
        "}\n",
        "\n",
        "hit_and_run_mapping = {\n",
        "    'Y': 1,\n",
        "    'N': 0\n",
        "}\n",
        "\n",
        "damage_mapping = {\n",
        "    'OVER $1,500': 3,\n",
        "    '$501 - $1,500': 2,\n",
        "    '$500 OR LESS': 1\n",
        "}"
      ],
      "metadata": {
        "id": "ik8LH0zjPG33"
      },
      "execution_count": 22,
      "outputs": []
    },
    {
      "cell_type": "code",
      "source": [
        "# Helper function to apply mapping\n",
        "def apply_mapping(df, col_name, mapping):\n",
        "    mapping_expr = when(col(col_name).isNull(), None)\n",
        "    for key, value in mapping.items():\n",
        "        mapping_expr = mapping_expr.when(col(col_name) == key, value)\n",
        "    return df.withColumn(col_name, mapping_expr)"
      ],
      "metadata": {
        "id": "BnsUCTGYPQDo"
      },
      "execution_count": 23,
      "outputs": []
    },
    {
      "cell_type": "code",
      "source": [
        "# Apply the mappings to the respective columns\n",
        "filtered_crashes = apply_mapping(filtered_crashes, \"LIGHTING_CONDITION\", lighting_condition_mapping)\n",
        "filtered_crashes = apply_mapping(filtered_crashes, \"MOST_SEVERE_INJURY\", most_severe_injury_mapping)\n",
        "filtered_crashes = apply_mapping(filtered_crashes, \"REPORT_TYPE\", report_type_mapping)\n",
        "filtered_crashes = apply_mapping(filtered_crashes, \"CRASH_TYPE\", crash_type_mapping)\n",
        "filtered_crashes = apply_mapping(filtered_crashes, \"DAMAGE\", damage_mapping)\n",
        "\n",
        "# Show the updated DataFrame\n",
        "filtered_crashes.select(\n",
        "    \"LIGHTING_CONDITION\", \"MOST_SEVERE_INJURY\", \"REPORT_TYPE\", \"CRASH_TYPE\", \"DAMAGE\"\n",
        ").show()"
      ],
      "metadata": {
        "colab": {
          "base_uri": "https://localhost:8080/"
        },
        "id": "nb9EdPbAPQ6s",
        "outputId": "f2bbee9f-0cc5-443d-c6fb-329e2af78172"
      },
      "execution_count": 24,
      "outputs": [
        {
          "output_type": "stream",
          "name": "stdout",
          "text": [
            "+------------------+------------------+-----------+----------+------+\n",
            "|LIGHTING_CONDITION|MOST_SEVERE_INJURY|REPORT_TYPE|CRASH_TYPE|DAMAGE|\n",
            "+------------------+------------------+-----------+----------+------+\n",
            "|                 3|                 1|          1|         0|     2|\n",
            "|                 2|                 1|          2|         1|     3|\n",
            "|                 2|                 1|          2|         1|     3|\n",
            "|                 3|                 1|          1|         0|     3|\n",
            "|                 6|                 1|          1|         0|     3|\n",
            "|                 2|                 5|          2|         1|     3|\n",
            "|                 2|                 1|          2|         0|     3|\n",
            "|                 4|                 1|          2|         1|     3|\n",
            "|                 2|                 1|          2|         1|     3|\n",
            "|                 2|                 1|          2|         0|     3|\n",
            "|                 3|                 1|          2|         0|     2|\n",
            "|                 2|                 1|          2|         1|     3|\n",
            "|                 2|                 3|          1|         1|     3|\n",
            "|                 5|                 1|          2|         0|     3|\n",
            "|                 2|                 2|          2|         1|     3|\n",
            "|                 3|                 1|          1|         1|     3|\n",
            "|                 6|                 1|          1|         0|     3|\n",
            "|                 2|                 1|          2|         1|     3|\n",
            "|                 2|                 2|          2|         1|     3|\n",
            "|                 6|                 4|          2|         1|     3|\n",
            "+------------------+------------------+-----------+----------+------+\n",
            "only showing top 20 rows\n",
            "\n"
          ]
        }
      ]
    },
    {
      "cell_type": "markdown",
      "source": [
        "## Nominal Encoding\n",
        "\n",
        "For categorical columns without an inherent order, such as TRAFFIC_CONTROL_DEVICE and WEATHER_CONDITION, one-hot encoding was applied. This technique created binary vector representations for each category, allowing models to process these columns without assuming any relationship between categories. By transforming nominal data into vectors, we ensured compatibility with machine learning algorithms while avoiding misleading assumptions about category relationships."
      ],
      "metadata": {
        "id": "sN17D8iKbBeB"
      }
    },
    {
      "cell_type": "code",
      "source": [
        "\n",
        "# Define columns for nominal encoding**\n",
        "columns_for_nominal_encoding = [\n",
        "    'TRAFFIC_CONTROL_DEVICE',\n",
        "    'DEVICE_CONDITION',\n",
        "    'WEATHER_CONDITION',\n",
        "    'FIRST_CRASH_TYPE',\n",
        "    'TRAFFICWAY_TYPE',\n",
        "    'ALIGNMENT',\n",
        "    'ROADWAY_SURFACE_COND',\n",
        "    'ROAD_DEFECT',\n",
        "    'PRIM_CONTRIBUTORY_CAUSE'\n",
        "]\n",
        "\n",
        "# Index and One-Hot Encode each column**\n",
        "# Initialize empty DataFrame to append processed columns\n",
        "for col_name in columns_for_nominal_encoding:\n",
        "    # StringIndexer converts string categories into numerical indices\n",
        "    indexer = StringIndexer(inputCol=col_name, outputCol=f\"{col_name}_index\")\n",
        "    filtered_crashes = indexer.fit(filtered_crashes).transform(filtered_crashes)\n",
        "\n",
        "    # OneHotEncoder converts indices into one-hot encoded vectors\n",
        "    encoder = OneHotEncoder(inputCol=f\"{col_name}_index\", outputCol=f\"{col_name}_encoded\")\n",
        "    filtered_crashes = encoder.fit(filtered_crashes).transform(filtered_crashes)\n",
        "\n",
        "# Drop original and intermediate columns (optional)**\n",
        "# Drop the original categorical columns and index columns, keeping only the encoded versions\n",
        "columns_to_drop = columns_for_nominal_encoding + [f\"{col}_index\" for col in columns_for_nominal_encoding]\n",
        "filtered_crashes = filtered_crashes.drop(*columns_to_drop)\n",
        "\n",
        "# Display the schema to verify encoded columns**\n",
        "filtered_crashes.printSchema()\n",
        "\n",
        "# Show some rows for verification**\n",
        "filtered_crashes.show(5, truncate=False)"
      ],
      "metadata": {
        "colab": {
          "base_uri": "https://localhost:8080/"
        },
        "id": "6HfcAsGgPTNc",
        "outputId": "dc3eec2a-8051-4aac-98e1-5e88067bfd5b"
      },
      "execution_count": 25,
      "outputs": [
        {
          "output_type": "stream",
          "name": "stdout",
          "text": [
            "root\n",
            " |-- POSTED_SPEED_LIMIT: integer (nullable = true)\n",
            " |-- LIGHTING_CONDITION: integer (nullable = true)\n",
            " |-- REPORT_TYPE: integer (nullable = true)\n",
            " |-- CRASH_TYPE: integer (nullable = true)\n",
            " |-- DAMAGE: integer (nullable = true)\n",
            " |-- BEAT_OF_OCCURRENCE: integer (nullable = true)\n",
            " |-- NUM_UNITS: integer (nullable = true)\n",
            " |-- MOST_SEVERE_INJURY: integer (nullable = true)\n",
            " |-- INJURIES_TOTAL: integer (nullable = true)\n",
            " |-- INJURIES_FATAL: integer (nullable = true)\n",
            " |-- INJURIES_INCAPACITATING: integer (nullable = true)\n",
            " |-- INJURIES_NON_INCAPACITATING: integer (nullable = true)\n",
            " |-- INJURIES_REPORTED_NOT_EVIDENT: integer (nullable = true)\n",
            " |-- INJURIES_NO_INDICATION: integer (nullable = true)\n",
            " |-- INJURIES_UNKNOWN: integer (nullable = true)\n",
            " |-- CRASH_HOUR: integer (nullable = true)\n",
            " |-- CRASH_DAY_OF_WEEK: integer (nullable = true)\n",
            " |-- CRASH_MONTH: integer (nullable = true)\n",
            " |-- LATITUDE: double (nullable = true)\n",
            " |-- LONGITUDE: double (nullable = true)\n",
            " |-- rolling_avg_speed: double (nullable = true)\n",
            " |-- rank: integer (nullable = false)\n",
            " |-- TRAFFIC_CONTROL_DEVICE_encoded: vector (nullable = true)\n",
            " |-- DEVICE_CONDITION_encoded: vector (nullable = true)\n",
            " |-- WEATHER_CONDITION_encoded: vector (nullable = true)\n",
            " |-- FIRST_CRASH_TYPE_encoded: vector (nullable = true)\n",
            " |-- TRAFFICWAY_TYPE_encoded: vector (nullable = true)\n",
            " |-- ALIGNMENT_encoded: vector (nullable = true)\n",
            " |-- ROADWAY_SURFACE_COND_encoded: vector (nullable = true)\n",
            " |-- ROAD_DEFECT_encoded: vector (nullable = true)\n",
            " |-- PRIM_CONTRIBUTORY_CAUSE_encoded: vector (nullable = true)\n",
            "\n",
            "+------------------+------------------+-----------+----------+------+------------------+---------+------------------+--------------+--------------+-----------------------+---------------------------+-----------------------------+----------------------+----------------+----------+-----------------+-----------+------------+-------------+------------------+----+------------------------------+------------------------+-------------------------+------------------------+-----------------------+-----------------+----------------------------+-------------------+-------------------------------+\n",
            "|POSTED_SPEED_LIMIT|LIGHTING_CONDITION|REPORT_TYPE|CRASH_TYPE|DAMAGE|BEAT_OF_OCCURRENCE|NUM_UNITS|MOST_SEVERE_INJURY|INJURIES_TOTAL|INJURIES_FATAL|INJURIES_INCAPACITATING|INJURIES_NON_INCAPACITATING|INJURIES_REPORTED_NOT_EVIDENT|INJURIES_NO_INDICATION|INJURIES_UNKNOWN|CRASH_HOUR|CRASH_DAY_OF_WEEK|CRASH_MONTH|LATITUDE    |LONGITUDE    |rolling_avg_speed |rank|TRAFFIC_CONTROL_DEVICE_encoded|DEVICE_CONDITION_encoded|WEATHER_CONDITION_encoded|FIRST_CRASH_TYPE_encoded|TRAFFICWAY_TYPE_encoded|ALIGNMENT_encoded|ROADWAY_SURFACE_COND_encoded|ROAD_DEFECT_encoded|PRIM_CONTRIBUTORY_CAUSE_encoded|\n",
            "+------------------+------------------+-----------+----------+------+------------------+---------+------------------+--------------+--------------+-----------------------+---------------------------+-----------------------------+----------------------+----------------+----------+-----------------+-----------+------------+-------------+------------------+----+------------------------------+------------------------+-------------------------+------------------------+-----------------------+-----------------+----------------------------+-------------------+-------------------------------+\n",
            "|15                |3                 |1          |0         |2     |1021              |2        |1                 |0             |0             |0                      |0                          |0                            |1                     |0               |1         |5                |6          |41.861207197|-87.712980081|22.5              |1   |(8,[0],[1.0])                 |(7,[0],[1.0])           |(5,[0],[1.0])            |(17,[0],[1.0])          |(19,[0],[1.0])         |(5,[0],[1.0])    |(6,[0],[1.0])               |(6,[0],[1.0])      |(20,[0],[1.0])                 |\n",
            "|30                |2                 |2          |1         |3     |933               |2        |1                 |0             |0             |0                      |0                          |0                            |4                     |0               |1         |5                |6          |41.804075004|-87.65283933 |22.5              |1   |(8,[0],[1.0])                 |(7,[0],[1.0])           |(5,[0],[1.0])            |(17,[4],[1.0])          |(19,[0],[1.0])         |(5,[0],[1.0])    |(6,[0],[1.0])               |(6,[0],[1.0])      |(20,[3],[1.0])                 |\n",
            "|35                |2                 |2          |1         |3     |1824              |2        |1                 |0             |0             |0                      |0                          |0                            |3                     |0               |1         |5                |6          |41.907909467|-87.625945778|26.666666666666668|3   |(8,[0],[1.0])                 |(7,[1],[1.0])           |(5,[0],[1.0])            |(17,[2],[1.0])          |(19,[5],[1.0])         |(5,[0],[1.0])    |(6,[0],[1.0])               |(6,[0],[1.0])      |(20,[5],[1.0])                 |\n",
            "|30                |3                 |1          |0         |3     |734               |2        |1                 |0             |0             |0                      |0                          |0                            |1                     |0               |1         |5                |6          |41.764930018|-87.655095929|27.5              |4   |(8,[0],[1.0])                 |(7,[0],[1.0])           |(5,[0],[1.0])            |(17,[0],[1.0])          |(19,[3],[1.0])         |(5,[0],[1.0])    |(6,[0],[1.0])               |(6,[0],[1.0])      |(20,[0],[1.0])                 |\n",
            "|30                |6                 |1          |0         |3     |1131              |2        |1                 |0             |0             |0                      |0                          |0                            |1                     |0               |1         |5                |6          |41.872643344|-87.732887351|28.0              |5   |(8,[0],[1.0])                 |(7,[0],[1.0])           |(5,[2],[1.0])            |(17,[0],[1.0])          |(19,[0],[1.0])         |(5,[0],[1.0])    |(6,[2],[1.0])               |(6,[0],[1.0])      |(20,[0],[1.0])                 |\n",
            "+------------------+------------------+-----------+----------+------+------------------+---------+------------------+--------------+--------------+-----------------------+---------------------------+-----------------------------+----------------------+----------------+----------+-----------------+-----------+------------+-------------+------------------+----+------------------------------+------------------------+-------------------------+------------------------+-----------------------+-----------------+----------------------------+-------------------+-------------------------------+\n",
            "only showing top 5 rows\n",
            "\n"
          ]
        }
      ]
    },
    {
      "cell_type": "code",
      "source": [
        "print(f\"Cleaned DataFrame contains {filtered_crashes.count()} rows and {len(filtered_crashes.columns)} columns.\")\n"
      ],
      "metadata": {
        "colab": {
          "base_uri": "https://localhost:8080/"
        },
        "id": "andgW-3miOBE",
        "outputId": "829eb7f4-cba4-415f-864c-8dac76a99bf3"
      },
      "execution_count": 26,
      "outputs": [
        {
          "output_type": "stream",
          "name": "stdout",
          "text": [
            "Cleaned DataFrame contains 65645 rows and 31 columns.\n"
          ]
        }
      ]
    },
    {
      "cell_type": "markdown",
      "source": [
        "# Saving the Cleaned/ Encoded Data"
      ],
      "metadata": {
        "id": "hPvnA0BBh7Lo"
      }
    },
    {
      "cell_type": "code",
      "source": [
        "# Save the DataFrame to a Parquet file\n",
        "encoded_data_path = \"encoded_data.parquet\"\n",
        "# filtered_crashes.write.parquet(encoded_data_path, mode=\"overwrite\")"
      ],
      "metadata": {
        "id": "F6a_zVH7hWMG"
      },
      "execution_count": 28,
      "outputs": []
    },
    {
      "cell_type": "code",
      "source": [
        "# Load the encoded data from the Parquet file\n",
        "loaded_encoded_data = spark.read.parquet(encoded_data_path)\n",
        "\n",
        "# Verify the loaded DataFrame\n",
        "print(f\"Loaded DataFrame contains {loaded_encoded_data.count()} rows and {len(loaded_encoded_data.columns)} columns.\")\n",
        "loaded_encoded_data.printSchema()"
      ],
      "metadata": {
        "colab": {
          "base_uri": "https://localhost:8080/"
        },
        "id": "zHogDnSFh0ew",
        "outputId": "fb39eb32-3797-480e-990b-6d9339dccc6f"
      },
      "execution_count": 29,
      "outputs": [
        {
          "output_type": "stream",
          "name": "stdout",
          "text": [
            "Loaded DataFrame contains 65645 rows and 31 columns.\n",
            "root\n",
            " |-- POSTED_SPEED_LIMIT: integer (nullable = true)\n",
            " |-- LIGHTING_CONDITION: integer (nullable = true)\n",
            " |-- REPORT_TYPE: integer (nullable = true)\n",
            " |-- CRASH_TYPE: integer (nullable = true)\n",
            " |-- DAMAGE: integer (nullable = true)\n",
            " |-- BEAT_OF_OCCURRENCE: integer (nullable = true)\n",
            " |-- NUM_UNITS: integer (nullable = true)\n",
            " |-- MOST_SEVERE_INJURY: integer (nullable = true)\n",
            " |-- INJURIES_TOTAL: integer (nullable = true)\n",
            " |-- INJURIES_FATAL: integer (nullable = true)\n",
            " |-- INJURIES_INCAPACITATING: integer (nullable = true)\n",
            " |-- INJURIES_NON_INCAPACITATING: integer (nullable = true)\n",
            " |-- INJURIES_REPORTED_NOT_EVIDENT: integer (nullable = true)\n",
            " |-- INJURIES_NO_INDICATION: integer (nullable = true)\n",
            " |-- INJURIES_UNKNOWN: integer (nullable = true)\n",
            " |-- CRASH_HOUR: integer (nullable = true)\n",
            " |-- CRASH_DAY_OF_WEEK: integer (nullable = true)\n",
            " |-- CRASH_MONTH: integer (nullable = true)\n",
            " |-- LATITUDE: double (nullable = true)\n",
            " |-- LONGITUDE: double (nullable = true)\n",
            " |-- rolling_avg_speed: double (nullable = true)\n",
            " |-- rank: integer (nullable = true)\n",
            " |-- TRAFFIC_CONTROL_DEVICE_encoded: vector (nullable = true)\n",
            " |-- DEVICE_CONDITION_encoded: vector (nullable = true)\n",
            " |-- WEATHER_CONDITION_encoded: vector (nullable = true)\n",
            " |-- FIRST_CRASH_TYPE_encoded: vector (nullable = true)\n",
            " |-- TRAFFICWAY_TYPE_encoded: vector (nullable = true)\n",
            " |-- ALIGNMENT_encoded: vector (nullable = true)\n",
            " |-- ROADWAY_SURFACE_COND_encoded: vector (nullable = true)\n",
            " |-- ROAD_DEFECT_encoded: vector (nullable = true)\n",
            " |-- PRIM_CONTRIBUTORY_CAUSE_encoded: vector (nullable = true)\n",
            "\n"
          ]
        }
      ]
    },
    {
      "cell_type": "code",
      "source": [
        "spark.stop()\n",
        "\n",
        "print(\"Spark session ended.\")"
      ],
      "metadata": {
        "colab": {
          "base_uri": "https://localhost:8080/"
        },
        "id": "ZJDxpvVPi-tU",
        "outputId": "f99d8e74-e313-4c4c-e2dc-ef3572c2b5af"
      },
      "execution_count": 30,
      "outputs": [
        {
          "output_type": "stream",
          "name": "stdout",
          "text": [
            "Spark session ended.\n"
          ]
        }
      ]
    },
    {
      "cell_type": "markdown",
      "source": [
        "# Algorithms"
      ],
      "metadata": {
        "id": "VDnnMblqjiuw"
      }
    },
    {
      "cell_type": "code",
      "source": [
        "# Initialize Spark Session\n",
        "spark = SparkSession.builder.appName(\"ModelTraining\").getOrCreate()"
      ],
      "metadata": {
        "id": "wS6HfUUvjBEi"
      },
      "execution_count": 2,
      "outputs": []
    },
    {
      "cell_type": "code",
      "source": [
        "filtered_crashes = spark.read.parquet(\"encoded_data.parquet\")\n",
        "# Display the count and verify\n",
        "print(f\"Dataset contains {filtered_crashes.count()} rows and {len(filtered_crashes.columns)} columns.\")"
      ],
      "metadata": {
        "colab": {
          "base_uri": "https://localhost:8080/"
        },
        "id": "YfmmxNIXlTBM",
        "outputId": "2cb8ff81-a00e-45e0-c560-98e2238aec56"
      },
      "execution_count": 3,
      "outputs": [
        {
          "output_type": "stream",
          "name": "stdout",
          "text": [
            "Dataset contains 65645 rows and 31 columns.\n"
          ]
        }
      ]
    },
    {
      "cell_type": "markdown",
      "source": [
        "## Feature Engineering\n",
        "\n",
        "Feature engineering in PySpark involves transforming raw data into a structured format suitable for machine learning. Key steps include handling missing values with PySpark's Imputer, encoding categorical variables using StringIndexer or OneHotEncoder, and normalizing numerical features with StandardScaler. The features are then combined into a single vector using VectorAssembler, and the target variable (label) is prepared for modeling. This ensures the dataset is clean and compatible with PySpark ML pipelines."
      ],
      "metadata": {
        "id": "LmgXugVykWhS"
      }
    },
    {
      "cell_type": "code",
      "source": [
        "# Combine feature columns into a single vector\n",
        "feature_columns = [col for col in filtered_crashes.columns if col not in [\"CRASH_TYPE\", \"label_column\"]]\n",
        "assembler = VectorAssembler(inputCols=feature_columns, outputCol=\"features\")\n",
        "data = assembler.transform(filtered_crashes)\n",
        "\n",
        "# Prepare the final dataset\n",
        "final_data = data.select(\"features\", col(\"CRASH_TYPE\").alias(\"label\"))\n",
        "final_data.show(5)"
      ],
      "metadata": {
        "colab": {
          "base_uri": "https://localhost:8080/"
        },
        "id": "ZD12gmAzjzzW",
        "outputId": "3f47d514-e09b-495f-9537-fdfbc964b38a"
      },
      "execution_count": 4,
      "outputs": [
        {
          "output_type": "stream",
          "name": "stdout",
          "text": [
            "+--------------------+-----+\n",
            "|            features|label|\n",
            "+--------------------+-----+\n",
            "|(114,[0,1,2,3,4,5...|    0|\n",
            "|(114,[0,1,2,3,4,5...|    1|\n",
            "|(114,[0,1,2,3,4,5...|    1|\n",
            "|(114,[0,1,2,3,4,5...|    1|\n",
            "|(114,[0,1,2,3,4,5...|    0|\n",
            "+--------------------+-----+\n",
            "only showing top 5 rows\n",
            "\n"
          ]
        }
      ]
    },
    {
      "cell_type": "code",
      "source": [
        "# Split data into train, validation, and test sets\n",
        "train_data, validation_data, test_data = final_data.randomSplit([0.7, 0.15, 0.15], seed=69)\n",
        "\n",
        "# Print counts for each split\n",
        "print(f\"Training Data Count: {train_data.count()}\")\n",
        "print(f\"Validation Data Count: {validation_data.count()}\")\n",
        "print(f\"Testing Data Count: {test_data.count()}\")\n"
      ],
      "metadata": {
        "colab": {
          "base_uri": "https://localhost:8080/"
        },
        "id": "RL3q6XpAlD3a",
        "outputId": "7d50d562-7a8f-4fc0-e0d5-f839cfd9196d"
      },
      "execution_count": 5,
      "outputs": [
        {
          "output_type": "stream",
          "name": "stdout",
          "text": [
            "Training Data Count: 45725\n",
            "Validation Data Count: 9808\n",
            "Testing Data Count: 10112\n"
          ]
        }
      ]
    },
    {
      "cell_type": "markdown",
      "source": [
        "## Scaling the Data"
      ],
      "metadata": {
        "id": "INM7EdoYm1Ps"
      }
    },
    {
      "cell_type": "code",
      "source": [
        "# StandardScaler requires data in vector format, ensure it's vectorized\n",
        "# Assuming `features` column already exists\n",
        "scaler = StandardScaler(inputCol=\"features\", outputCol=\"scaled_features\", withMean=True, withStd=True)\n",
        "\n",
        "# Fit scaler on training data only\n",
        "scaler_model = scaler.fit(train_data)\n",
        "\n",
        "# Transform training, validation, and test datasets\n",
        "train_data_scaled = scaler_model.transform(train_data)\n",
        "validation_data_scaled = scaler_model.transform(validation_data)\n",
        "test_data_scaled = scaler_model.transform(test_data)\n",
        "\n",
        "# Select scaled features for further processing\n",
        "train_data_scaled = train_data_scaled.select(col(\"scaled_features\").alias(\"features\"), col(\"label\"))\n",
        "validation_data_scaled = validation_data_scaled.select(col(\"scaled_features\").alias(\"features\"), col(\"label\"))\n",
        "test_data_scaled = test_data_scaled.select(col(\"scaled_features\").alias(\"features\"), col(\"label\"))"
      ],
      "metadata": {
        "id": "3BXm7CqclFkD"
      },
      "execution_count": 6,
      "outputs": []
    },
    {
      "cell_type": "markdown",
      "source": [
        "# Hyperparameter Tuning\n",
        "\n",
        "Hyperparameter tuning in PySpark leverages tools like CrossValidator and ParamGridBuilder from the pyspark.ml library to optimize model performance. The ParamGridBuilder defines the combinations of hyperparameters to evaluate, while CrossValidator performs cross-validation over these combinations. PySpark's distributed nature allows it to efficiently explore hyperparameter spaces, enabling scalable and parallelized tuning for large datasets. This process helps identify the best hyperparameter configuration for a given machine learning model."
      ],
      "metadata": {
        "id": "MzxrRPhBohyM"
      }
    },
    {
      "cell_type": "code",
      "source": [
        "models_param_grids = {\n",
        "    \"xgb\": {\n",
        "        \"model\": SparkXGBClassifier(\n",
        "            features_col=\"features\",\n",
        "            label_col=\"label\",\n",
        "            num_workers=2,\n",
        "            num_class=1,  # Adjust based on the number of classes\n",
        "            verbosity = 0\n",
        "        ),\n",
        "        \"param_grid\": ParamGridBuilder()\n",
        "            .addGrid(SparkXGBClassifier.max_depth, [3, 6])  # Tune `max_depth`\n",
        "            .addGrid(SparkXGBClassifier.learning_rate, [0.01, 0.1, 0.2])  # Tune `learning_rate` (alias `eta`)\n",
        "            .addGrid(SparkXGBClassifier.n_estimators, [50, 100])  # Tune `num_round` (boosting rounds)\n",
        "            .build()\n",
        "    },\n",
        "    \"log_reg\": {\n",
        "        \"model\": LogisticRegression(featuresCol=\"features\", labelCol=\"label\", maxIter=10),\n",
        "        \"param_grid\": ParamGridBuilder()\n",
        "            .addGrid(LogisticRegression.regParam, [0.1, 1.0, 10.0])\n",
        "            .addGrid(LogisticRegression.elasticNetParam, [0.0, 0.5, 1.0])\n",
        "            .build()\n",
        "    },\n",
        "    \"svm\": {\n",
        "        \"model\": LinearSVC(featuresCol=\"features\", labelCol=\"label\", maxIter=10),\n",
        "        \"param_grid\": ParamGridBuilder()\n",
        "            .addGrid(LinearSVC.regParam, [0.1, 1.0, 10.0])\n",
        "            .build()\n",
        "    },\n",
        "    \"rf\": {\n",
        "        \"model\": RandomForestClassifier(featuresCol=\"features\", labelCol=\"label\", seed=42),\n",
        "        \"param_grid\": ParamGridBuilder()\n",
        "            .addGrid(RandomForestClassifier.numTrees, [50, 100, 200])\n",
        "            .addGrid(RandomForestClassifier.maxDepth, [5, 10, 20])\n",
        "            .addGrid(RandomForestClassifier.minInstancesPerNode, [2, 5, 10])\n",
        "            .build()\n",
        "    }\n",
        "}\n"
      ],
      "metadata": {
        "id": "QFBtscPNq7I7"
      },
      "execution_count": 7,
      "outputs": []
    },
    {
      "cell_type": "code",
      "source": [
        "# Initialize evaluator\n",
        "evaluator = MulticlassClassificationEvaluator(labelCol=\"label\", predictionCol=\"prediction\", metricName=\"accuracy\")"
      ],
      "metadata": {
        "id": "2IQU37Nc_vAf"
      },
      "execution_count": 8,
      "outputs": []
    },
    {
      "cell_type": "code",
      "source": [
        "import logging\n",
        "import time\n",
        "\n",
        "start_time_total = time.time()\n",
        "\n",
        "logging.getLogger(\"XGBoost-PySpark\").setLevel(logging.ERROR)\n",
        "\n",
        "# Train PySpark models\n",
        "best_models = {}\n",
        "validation_scores = {}\n",
        "best_params = {}\n",
        "\n",
        "for model_name, model_info in models_param_grids.items():\n",
        "    print(f\"Tuning {model_name}...\")\n",
        "\n",
        "    # Extract model and parameter grid\n",
        "    model = model_info[\"model\"]\n",
        "    param_grid = model_info[\"param_grid\"]\n",
        "\n",
        "    # Cross-validation\n",
        "    crossval = CrossValidator(estimator=model,\n",
        "                              estimatorParamMaps=param_grid,\n",
        "                              evaluator=evaluator,\n",
        "                              numFolds=3)\n",
        "\n",
        "    # Train model\n",
        "    cv_model = crossval.fit(train_data_scaled)\n",
        "\n",
        "    # Evaluate on validation set\n",
        "    validation_predictions = cv_model.transform(validation_data_scaled)\n",
        "    validation_accuracy = evaluator.evaluate(validation_predictions)\n",
        "\n",
        "    print(f\"{model_name} Validation Accuracy: {validation_accuracy}\")\n",
        "\n",
        "    # Find the best parameters manually\n",
        "    best_index = max(range(len(cv_model.avgMetrics)), key=lambda i: cv_model.avgMetrics[i])\n",
        "    best_models[model_name] = cv_model.bestModel\n",
        "    validation_scores[model_name] = validation_accuracy\n",
        "    best_params[model_name] = cv_model.getEstimatorParamMaps()[best_index]\n",
        "\n",
        "    # Print the best hyperparameters\n",
        "    print(f\"Best hyperparameters for {model_name}:\")\n",
        "    for param, value in best_params[model_name].items():\n",
        "        print(f\"  {param.name}: {value}\")\n",
        "\n",
        "end_time_total = time.time()\n",
        "total_execution_time = end_time_total - start_time_total\n",
        "\n",
        "# Print validation scores and total execution time\n",
        "print(\"\\nValidation Scores:\")\n",
        "for model_name, accuracy in validation_scores.items():\n",
        "    print(f\"{model_name}: Validation Accuracy = {accuracy:.4f}\")\n",
        "\n",
        "print(f\"\\nTotal Execution Time: {total_execution_time:.2f} seconds\")\n"
      ],
      "metadata": {
        "colab": {
          "base_uri": "https://localhost:8080/"
        },
        "id": "X1XcD64DCFyZ",
        "outputId": "d2c167cb-dede-44db-954d-26225dc647a6"
      },
      "execution_count": 9,
      "outputs": [
        {
          "output_type": "stream",
          "name": "stdout",
          "text": [
            "Tuning xgb...\n",
            "xgb Validation Accuracy: 0.8895799347471451\n",
            "Best hyperparameters for xgb:\n",
            "  max_depth: 3\n",
            "  learning_rate: 0.01\n",
            "  n_estimators: 50\n",
            "Tuning log_reg...\n",
            "log_reg Validation Accuracy: 0.890905383360522\n",
            "Best hyperparameters for log_reg:\n",
            "  regParam: 0.1\n",
            "  elasticNetParam: 0.0\n",
            "Tuning svm...\n",
            "svm Validation Accuracy: 0.8880505709624796\n",
            "Best hyperparameters for svm:\n",
            "  regParam: 0.1\n",
            "Tuning rf...\n",
            "rf Validation Accuracy: 0.8663336052202284\n",
            "Best hyperparameters for rf:\n",
            "  numTrees: 50\n",
            "  maxDepth: 5\n",
            "  minInstancesPerNode: 2\n",
            "\n",
            "Validation Scores:\n",
            "xgb: Validation Accuracy = 0.8896\n",
            "log_reg: Validation Accuracy = 0.8909\n",
            "svm: Validation Accuracy = 0.8881\n",
            "rf: Validation Accuracy = 0.8663\n",
            "\n",
            "Total Execution Time: 639.74 seconds\n"
          ]
        }
      ]
    },
    {
      "cell_type": "code",
      "source": [
        "from pyspark.sql import DataFrame\n",
        "\n",
        "def calc_metrics(confusion_matrix: DataFrame) -> dict:\n",
        "    \"\"\"\n",
        "    Calculate evaluation metrics including precision, recall, accuracy, and F1 score from a confusion matrix.\n",
        "    Args:\n",
        "        confusion_matrix (DataFrame): DataFrame with confusion matrix containing `actual`, `predicted`, and `count` columns.\n",
        "    Returns:\n",
        "        dict: Dictionary containing precision, recall, accuracy, and F1 score.\n",
        "    \"\"\"\n",
        "    # Extract confusion matrix components\n",
        "    true_positive = confusion_matrix.filter((col(\"actual\") == 1) & (col(\"prediction\") == 1)).select(\"count\").collect()\n",
        "    true_negative = confusion_matrix.filter((col(\"actual\") == 0) & (col(\"prediction\") == 0)).select(\"count\").collect()\n",
        "    false_positive = confusion_matrix.filter((col(\"actual\") == 0) & (col(\"prediction\") == 1)).select(\"count\").collect()\n",
        "    false_negative = confusion_matrix.filter((col(\"actual\") == 1) & (col(\"prediction\") == 0)).select(\"count\").collect()\n",
        "\n",
        "    # Handle cases where counts might not exist\n",
        "    true_positive = true_positive[0][0] if true_positive else 0\n",
        "    true_negative = true_negative[0][0] if true_negative else 0\n",
        "    false_positive = false_positive[0][0] if false_positive else 0\n",
        "    false_negative = false_negative[0][0] if false_negative else 0\n",
        "\n",
        "    # Calculate metrics\n",
        "    precision = true_positive / (true_positive + false_positive) if (true_positive + false_positive) > 0 else 0\n",
        "    recall = true_positive / (true_positive + false_negative) if (true_positive + false_negative) > 0 else 0\n",
        "    accuracy = (true_positive + true_negative) / (true_positive + true_negative + false_positive + false_negative)\n",
        "    f1_score = 2 * (precision * recall) / (precision + recall) if (precision + recall) > 0 else 0\n",
        "\n",
        "    # Print metrics\n",
        "    print(f\"Precision: {precision}\")\n",
        "    print(f\"Recall: {recall}\")\n",
        "    print(f\"Accuracy: {accuracy}\")\n",
        "    print(f\"F1 Score: {f1_score}\")\n",
        "\n",
        "    # Return metrics as a dictionary\n",
        "    return {\n",
        "        \"precision\": precision,\n",
        "        \"recall\": recall,\n",
        "        \"accuracy\": accuracy,\n",
        "        \"f1_score\": f1_score\n",
        "    }\n",
        "\n"
      ],
      "metadata": {
        "id": "4lKmeZ9LSEvG"
      },
      "execution_count": 10,
      "outputs": []
    },
    {
      "cell_type": "markdown",
      "source": [
        "# Naive Bayes Classifier\n",
        "\n",
        "The Naive Bayes classifier in PySpark, available through the pyspark.ml.classification.NaiveBayes module, is a probabilistic model based on Bayes' theorem. It is particularly well-suited for categorical data and assumes independence between predictors."
      ],
      "metadata": {
        "id": "1EGcmnIpIFYJ"
      }
    },
    {
      "cell_type": "code",
      "source": [
        "from pyspark.ml.linalg import Vectors, VectorUDT\n",
        "from pyspark.sql.functions import udf, col\n",
        "from pyspark.ml.classification import NaiveBayes\n",
        "from pyspark.ml.evaluation import MulticlassClassificationEvaluator\n",
        "\n",
        "start_time_total = time.time()\n",
        "\n",
        "# Function to shift vector values to ensure non-negativity\n",
        "def shift_vector(vector):\n",
        "    min_value = min(vector)\n",
        "    shift_value = abs(min_value) + 1 if min_value < 0 else 0\n",
        "    return [v + shift_value for v in vector]\n",
        "\n",
        "# Define a UDF to apply the shift_vector function\n",
        "shift_vector_udf = udf(lambda vector: Vectors.dense(shift_vector(vector.toArray())), VectorUDT())\n",
        "\n",
        "# Create shifted datasets for Naive Bayes\n",
        "train_data_nb = train_data_scaled.withColumn(\"shifted_features\", shift_vector_udf(col(\"features\"))) \\\n",
        "                                 .select(col(\"shifted_features\").alias(\"final_features\"), col(\"label\").alias(\"actual\"))\n",
        "\n",
        "validation_data_nb = validation_data_scaled.withColumn(\"shifted_features\", shift_vector_udf(col(\"features\"))) \\\n",
        "                                           .select(col(\"shifted_features\").alias(\"final_features\"), col(\"label\").alias(\"actual\"))\n",
        "\n",
        "test_data_nb = test_data_scaled.withColumn(\"shifted_features\", shift_vector_udf(col(\"features\"))) \\\n",
        "                               .select(col(\"shifted_features\").alias(\"final_features\"), col(\"label\").alias(\"actual\"))\n",
        "\n",
        "# Initialize the Naive Bayes classifier\n",
        "nb = NaiveBayes(featuresCol=\"final_features\", labelCol=\"actual\", predictionCol=\"prediction\", modelType=\"multinomial\")\n",
        "\n",
        "# Train the Naive Bayes model\n",
        "print(\"Training Naive Bayes model...\")\n",
        "nb_model = nb.fit(train_data_nb)\n",
        "\n",
        "# Test the Naive Bayes model\n",
        "print(\"Testing Naive Bayes model...\")\n",
        "nb_predictions = nb_model.transform(test_data_nb)\n",
        "\n",
        "end_time_total = time.time()\n",
        "total_execution_time = end_time_total - start_time_total\n",
        "print(f\"\\nTotal Execution Time: {total_execution_time:.2f} seconds\")\n",
        "\n",
        "# Evaluate the model\n",
        "evaluator = MulticlassClassificationEvaluator(labelCol=\"actual\", predictionCol=\"prediction\", metricName=\"accuracy\")\n",
        "nb_test_accuracy = evaluator.evaluate(nb_predictions)\n",
        "print(f\"Naive Bayes Test Accuracy: {nb_test_accuracy}\")\n",
        "\n",
        "# Confusion Matrix\n",
        "print(\"Confusion Matrix:\")\n",
        "confusion_matrix_nb = nb_predictions.groupBy(\"actual\", \"prediction\").count()\n",
        "confusion_matrix_nb.show()\n",
        "\n",
        "nb_metrics = calc_metrics(confusion_matrix_nb)\n"
      ],
      "metadata": {
        "colab": {
          "base_uri": "https://localhost:8080/"
        },
        "id": "WbDbIGNXPikz",
        "outputId": "14db44a3-faaf-4a94-bb10-e57b18efe02a"
      },
      "execution_count": 11,
      "outputs": [
        {
          "output_type": "stream",
          "name": "stdout",
          "text": [
            "Training Naive Bayes model...\n",
            "Testing Naive Bayes model...\n",
            "\n",
            "Total Execution Time: 13.72 seconds\n",
            "Naive Bayes Test Accuracy: 0.8607594936708861\n",
            "Confusion Matrix:\n",
            "+------+----------+-----+\n",
            "|actual|prediction|count|\n",
            "+------+----------+-----+\n",
            "|     1|       0.0| 1365|\n",
            "|     0|       0.0| 7123|\n",
            "|     1|       1.0| 1581|\n",
            "|     0|       1.0|   43|\n",
            "+------+----------+-----+\n",
            "\n",
            "Precision: 0.9735221674876847\n",
            "Recall: 0.5366598778004074\n",
            "Accuracy: 0.8607594936708861\n",
            "F1 Score: 0.6919037199124727\n"
          ]
        }
      ]
    },
    {
      "cell_type": "markdown",
      "source": [
        "# Linear Regression Classifier\n",
        "\n",
        "Linear Regression is primarily designed for regression tasks, predicting continuous numerical outputs. However, it can be adapted for classification tasks by setting thresholds on predicted continuous values to classify them into discrete categories"
      ],
      "metadata": {
        "id": "AeZWHlnVJXst"
      }
    },
    {
      "cell_type": "code",
      "source": [
        "start_time_total = time.time()\n",
        "# Initialize the Linear Regression model\n",
        "linear_reg = LinearRegression(\n",
        "    featuresCol=\"features\",\n",
        "    labelCol=\"label\",\n",
        "    predictionCol=\"prediction\",\n",
        "    maxIter=25,\n",
        ")\n",
        "\n",
        "# Train the Linear Regression model\n",
        "print(\"Training Linear Regression model...\")\n",
        "linear_reg_model = linear_reg.fit(train_data_scaled)\n",
        "\n",
        "# Test the Linear Regression model\n",
        "print(\"Testing Linear Regression model...\")\n",
        "linear_reg_test_predictions = linear_reg_model.transform(test_data_scaled)\n",
        "\n",
        "end_time_total = time.time()\n",
        "total_execution_time = end_time_total - start_time_total\n",
        "print(f\"\\nTotal Execution Time: {total_execution_time:.2f} seconds\")\n",
        "\n",
        "\n",
        "# Evaluate the model\n",
        "evaluator = RegressionEvaluator(labelCol=\"label\", predictionCol=\"prediction\", metricName=\"rmse\")\n",
        "rmse = evaluator.evaluate(linear_reg_test_predictions)\n",
        "print(f\"Linear Regression Test RMSE: {rmse}\")\n",
        "\n",
        "evaluator_r2 = RegressionEvaluator(labelCol=\"label\", predictionCol=\"prediction\", metricName=\"r2\")\n",
        "r2 = evaluator_r2.evaluate(linear_reg_test_predictions)\n",
        "print(f\"Linear Regression Test R2: {r2}\")\n",
        "\n",
        "# Show sample predictions\n",
        "print(\"Sample predictions:\")\n",
        "linear_reg_test_predictions.select(\"features\", \"label\", \"prediction\").show(5)\n",
        "\n",
        "\n",
        "# Define bins or categories for predictions and labels\n",
        "# Example: Binning into two categories (below/above threshold)\n",
        "threshold = 0.5\n",
        "binned_predictions = linear_reg_test_predictions.withColumn(\n",
        "    \"prediction\", when(col(\"prediction\") >= threshold, 1).otherwise(0)\n",
        ").withColumn(\n",
        "    \"actual\", when(col(\"label\") >= threshold, 1).otherwise(0)\n",
        ")\n",
        "\n",
        "# Calculate confusion matrix values\n",
        "confusion_matrix_linear_reg = binned_predictions.groupBy(\"actual\", \"prediction\").count()\n",
        "\n",
        "# Show the confusion matrix\n",
        "print(\"Confusion Matrix:\")\n",
        "confusion_matrix_linear_reg.show()\n",
        "\n",
        "metrics_linear_reg = calc_metrics(confusion_matrix_linear_reg)"
      ],
      "metadata": {
        "colab": {
          "base_uri": "https://localhost:8080/"
        },
        "id": "KUQnJaqNEEAM",
        "outputId": "0abcee56-cd5f-43a3-8bd9-3ca76c4dc8f8"
      },
      "execution_count": 12,
      "outputs": [
        {
          "output_type": "stream",
          "name": "stdout",
          "text": [
            "Training Linear Regression model...\n",
            "Testing Linear Regression model...\n",
            "\n",
            "Total Execution Time: 5.64 seconds\n",
            "Linear Regression Test RMSE: 0.2991750263844592\n",
            "Linear Regression Test R2: 0.566473897319242\n",
            "Sample predictions:\n",
            "+--------------------+-----+------------------+\n",
            "|            features|label|        prediction|\n",
            "+--------------------+-----+------------------+\n",
            "|[0.24474080695805...|    1|0.8568526066255309|\n",
            "|[0.24474080695805...|    1|0.8887102724111247|\n",
            "|[0.24474080695805...|    1|1.0388082225039834|\n",
            "|[0.24474080695805...|    1|1.4723611823673535|\n",
            "|[0.24474080695805...|    1| 1.387193797559832|\n",
            "+--------------------+-----+------------------+\n",
            "only showing top 5 rows\n",
            "\n",
            "Confusion Matrix:\n",
            "+------+----------+-----+\n",
            "|actual|prediction|count|\n",
            "+------+----------+-----+\n",
            "|     1|         0| 1149|\n",
            "|     1|         1| 1797|\n",
            "|     0|         0| 7086|\n",
            "|     0|         1|   80|\n",
            "+------+----------+-----+\n",
            "\n",
            "Precision: 0.9573787959509856\n",
            "Recall: 0.609979633401222\n",
            "Accuracy: 0.8784612341772152\n",
            "F1 Score: 0.7451793489529338\n"
          ]
        }
      ]
    },
    {
      "cell_type": "markdown",
      "source": [
        "## Logistic Regression\n",
        "\n",
        "Logistic Regression is a robust algorithm for binary and multi-class classification tasks. It models the probability of a target class using the logistic function and outputs probabilities for each class. PySpark's LogisticRegression supports advanced features like L1 and L2 regularization (elasticNetParam), hyperparameter tuning with cross-validation, and scalability for large datasets. It is commonly used for its interpretability, efficiency, and ability to handle both linear and non-linear decision boundaries with appropriate feature engineering."
      ],
      "metadata": {
        "id": "aSqbJ46CWhIp"
      }
    },
    {
      "cell_type": "code",
      "source": [
        "start_time_total = time.time()\n",
        "# Retrieve the best Logistic Regression model from the hyperparameter tuning\n",
        "print(\"Retrieving the best Logistic Regression model...\")\n",
        "best_log_reg_model = best_models['log_reg']\n",
        "\n",
        "# Test the Logistic Regression model\n",
        "print(\"Testing Logistic Regression model...\")\n",
        "log_reg_predictions = best_log_reg_model.transform(test_data_scaled)\n",
        "\n",
        "end_time_total = time.time()\n",
        "total_execution_time = end_time_total - start_time_total\n",
        "print(f\"\\nTotal Execution Time: {total_execution_time:.2f} seconds\")\n",
        "\n",
        "\n",
        "# Evaluate accuracy on test data\n",
        "evaluator = MulticlassClassificationEvaluator(labelCol=\"label\", predictionCol=\"prediction\", metricName=\"accuracy\")\n",
        "log_reg_test_accuracy = evaluator.evaluate(log_reg_predictions)\n",
        "print(f\"Logistic Regression Test Accuracy: {log_reg_test_accuracy}\")\n",
        "\n",
        "# Confusion Matrix\n",
        "print(\"Confusion Matrix:\")\n",
        "confusion_matrix_log_reg = log_reg_predictions.groupBy(col(\"label\").alias(\"actual\"), \"prediction\").count()\n",
        "confusion_matrix_log_reg.show()\n",
        "\n",
        "metrics_log_reg = calc_metrics(confusion_matrix_linear_reg)"
      ],
      "metadata": {
        "colab": {
          "base_uri": "https://localhost:8080/"
        },
        "id": "9eIIITZSQ_FH",
        "outputId": "c70d3e0b-89a3-44d5-a905-ff4d23fcf1c7"
      },
      "execution_count": 13,
      "outputs": [
        {
          "output_type": "stream",
          "name": "stdout",
          "text": [
            "Retrieving the best Logistic Regression model...\n",
            "Testing Logistic Regression model...\n",
            "\n",
            "Total Execution Time: 0.06 seconds\n",
            "Logistic Regression Test Accuracy: 0.8901305379746836\n",
            "Confusion Matrix:\n",
            "+------+----------+-----+\n",
            "|actual|prediction|count|\n",
            "+------+----------+-----+\n",
            "|     1|       0.0|  796|\n",
            "|     0|       0.0| 6851|\n",
            "|     1|       1.0| 2150|\n",
            "|     0|       1.0|  315|\n",
            "+------+----------+-----+\n",
            "\n",
            "Precision: 0.9573787959509856\n",
            "Recall: 0.609979633401222\n",
            "Accuracy: 0.8784612341772152\n",
            "F1 Score: 0.7451793489529338\n"
          ]
        }
      ]
    },
    {
      "cell_type": "markdown",
      "source": [
        "## SVM\n",
        "\n",
        "Support Vector Machines (SVM) are implemented through LinearSVC, which is designed for binary classification tasks. SVM finds a hyperplane that maximally separates the classes by transforming the input space into a higher-dimensional space if necessary. PySpark's LinearSVC is optimized for large-scale data and supports parameters like regularization (regParam) and maximum iterations (maxIter) for training. While it does not support non-linear kernels natively, its scalability and performance make it effective for linearly separable problems on distributed datasets."
      ],
      "metadata": {
        "id": "8Hy4waLAXs6y"
      }
    },
    {
      "cell_type": "code",
      "source": [
        "start_time_total = time.time()\n",
        "# Retrieve the best SVM model from the hyperparameter tuning\n",
        "print(\"Retrieving the best SVM model...\")\n",
        "best_svm_model = best_models['svm']\n",
        "\n",
        "# Test the SVM model\n",
        "print(\"Testing SVM model...\")\n",
        "svm_predictions = best_svm_model.transform(test_data_scaled)\n",
        "\n",
        "end_time_total = time.time()\n",
        "total_execution_time = end_time_total - start_time_total\n",
        "print(f\"\\nTotal Execution Time: {total_execution_time:.2f} seconds\")\n",
        "\n",
        "# Evaluate accuracy on test data\n",
        "evaluator = MulticlassClassificationEvaluator(labelCol=\"label\", predictionCol=\"prediction\", metricName=\"accuracy\")\n",
        "svm_test_accuracy = evaluator.evaluate(svm_predictions)\n",
        "print(f\"SVM Test Accuracy: {svm_test_accuracy}\")\n",
        "\n",
        "# Generate Confusion Matrix with \"actual\" and \"prediction\" labels\n",
        "print(\"Confusion Matrix:\")\n",
        "confusion_matrix_svm = svm_predictions.groupBy(col(\"label\").alias(\"actual\"), col(\"prediction\").alias(\"prediction\")).count()\n",
        "confusion_matrix_svm.show()\n",
        "\n",
        "# Calculate and display metrics for SVM\n",
        "svm_metrics = calc_metrics(confusion_matrix_svm)  # Using the existing calc_metrics function"
      ],
      "metadata": {
        "colab": {
          "base_uri": "https://localhost:8080/"
        },
        "id": "xUttHyJFU4jj",
        "outputId": "ab94811b-6a84-4b1a-8e83-0cfeb8c5b95c"
      },
      "execution_count": 14,
      "outputs": [
        {
          "output_type": "stream",
          "name": "stdout",
          "text": [
            "Retrieving the best SVM model...\n",
            "Testing SVM model...\n",
            "\n",
            "Total Execution Time: 0.05 seconds\n",
            "SVM Test Accuracy: 0.8872626582278481\n",
            "Confusion Matrix:\n",
            "+------+----------+-----+\n",
            "|actual|prediction|count|\n",
            "+------+----------+-----+\n",
            "|     1|       0.0|  975|\n",
            "|     0|       0.0| 7001|\n",
            "|     1|       1.0| 1971|\n",
            "|     0|       1.0|  165|\n",
            "+------+----------+-----+\n",
            "\n",
            "Precision: 0.922752808988764\n",
            "Recall: 0.6690427698574338\n",
            "Accuracy: 0.8872626582278481\n",
            "F1 Score: 0.7756788665879575\n"
          ]
        }
      ]
    },
    {
      "cell_type": "markdown",
      "source": [
        "# Random Forest\n",
        "\n",
        "In PySpark, Random Forest is implemented via RandomForestClassifier, which is an ensemble learning method. It builds multiple decision trees during training and outputs the class with the highest aggregated votes from these trees. Random Forest is robust to overfitting and works well with both numerical and categorical features. Key hyperparameters include the number of trees (numTrees), tree depth (maxDepth), and features to consider for splits (featureSubsetStrategy). Its parallelizable design makes it highly efficient for large-scale distributed datasets, leveraging PySpark's distributed computing capabilities."
      ],
      "metadata": {
        "id": "c8UN_du2YCJ8"
      }
    },
    {
      "cell_type": "code",
      "source": [
        "start_time_total = time.time()\n",
        "# Retrieve the best Random Forest model from the hyperparameter tuning\n",
        "print(\"Retrieving the best Random Forest model...\")\n",
        "best_rf_model = best_models['rf']\n",
        "\n",
        "# Test the Random Forest model\n",
        "print(\"Testing Random Forest model...\")\n",
        "rf_predictions = best_rf_model.transform(test_data_scaled)\n",
        "\n",
        "end_time_total = time.time()\n",
        "total_execution_time = end_time_total - start_time_total\n",
        "print(f\"\\nTotal Execution Time: {total_execution_time:.2f} seconds\")\n",
        "\n",
        "# Evaluate accuracy on test data\n",
        "evaluator = MulticlassClassificationEvaluator(labelCol=\"label\", predictionCol=\"prediction\", metricName=\"accuracy\")\n",
        "rf_test_accuracy = evaluator.evaluate(rf_predictions)\n",
        "print(f\"Random Forest Test Accuracy: {rf_test_accuracy}\")\n",
        "\n",
        "# Generate Confusion Matrix with \"actual\" and \"prediction\" labels\n",
        "print(\"Confusion Matrix:\")\n",
        "confusion_matrix_rf = rf_predictions.groupBy(col(\"label\").alias(\"actual\"), col(\"prediction\").alias(\"prediction\")).count()\n",
        "confusion_matrix_rf.show()\n",
        "\n",
        "# Calculate and display metrics for Random Forest\n",
        "rf_metrics = calc_metrics(confusion_matrix_rf)  # Using the existing calc_metrics function\n"
      ],
      "metadata": {
        "colab": {
          "base_uri": "https://localhost:8080/"
        },
        "id": "3FK8hNZ1YBq0",
        "outputId": "56771bc8-6c7f-4fef-c666-adba75af8266"
      },
      "execution_count": 15,
      "outputs": [
        {
          "output_type": "stream",
          "name": "stdout",
          "text": [
            "Retrieving the best Random Forest model...\n",
            "Testing Random Forest model...\n",
            "\n",
            "Total Execution Time: 0.06 seconds\n",
            "Random Forest Test Accuracy: 0.865506329113924\n",
            "Confusion Matrix:\n",
            "+------+----------+-----+\n",
            "|actual|prediction|count|\n",
            "+------+----------+-----+\n",
            "|     1|       0.0| 1360|\n",
            "|     0|       0.0| 7166|\n",
            "|     1|       1.0| 1586|\n",
            "+------+----------+-----+\n",
            "\n",
            "Precision: 1.0\n",
            "Recall: 0.538357094365241\n",
            "Accuracy: 0.865506329113924\n",
            "F1 Score: 0.6999117387466903\n"
          ]
        }
      ]
    },
    {
      "cell_type": "markdown",
      "source": [
        "# XGBoost\n",
        "\n",
        "XGBoost is implemented via SparkXGBClassifier, a distributed implementation of the gradient-boosted tree algorithm. XGBoost is highly efficient and designed to handle structured data with strong predictive performance by combining multiple weak learners (decision trees) iteratively. It supports advanced regularization techniques and fine-grained hyperparameter tuning, such as learning rate (learning_rate), maximum depth (max_depth), and the number of boosting rounds (n_estimators). XGBoost excels in handling imbalanced datasets and feature interactions, and its integration with PySpark allows scalable training on large datasets by distributing computation across multiple nodes."
      ],
      "metadata": {
        "id": "zKh3ck-bYU_p"
      }
    },
    {
      "cell_type": "code",
      "source": [
        "start_time_total = time.time()\n",
        "# Retrieve the best SparkXGB model from the hyperparameter tuning\n",
        "print(\"Retrieving the best SparkXGBClassifier model...\")\n",
        "best_xgb_model = best_models['xgb']\n",
        "\n",
        "# Test the SparkXGBClassifier model\n",
        "print(\"Testing SparkXGBClassifier model...\")\n",
        "xgb_predictions = best_xgb_model.transform(test_data_scaled)\n",
        "\n",
        "end_time_total = time.time()\n",
        "total_execution_time = end_time_total - start_time_total\n",
        "print(f\"\\nTotal Execution Time: {total_execution_time:.2f} seconds\")\n",
        "\n",
        "# Evaluate accuracy on test data\n",
        "evaluator = MulticlassClassificationEvaluator(labelCol=\"label\", predictionCol=\"prediction\", metricName=\"accuracy\")\n",
        "xgb_test_accuracy = evaluator.evaluate(xgb_predictions)\n",
        "print(f\"SparkXGBClassifier Test Accuracy: {xgb_test_accuracy}\")\n",
        "\n",
        "# Generate Confusion Matrix with \"actual\" and \"prediction\" labels\n",
        "print(\"Confusion Matrix:\")\n",
        "confusion_matrix_xgb = xgb_predictions.groupBy(col(\"label\").alias(\"actual\"), col(\"prediction\").alias(\"prediction\")).count()\n",
        "confusion_matrix_xgb.show()\n",
        "\n",
        "# Calculate and display metrics for SparkXGBClassifier\n",
        "xgb_metrics = calc_metrics(confusion_matrix_xgb)  # Using the existing calc_metrics function"
      ],
      "metadata": {
        "colab": {
          "base_uri": "https://localhost:8080/"
        },
        "id": "qVNh2_WIYHqQ",
        "outputId": "b7daf70d-c9b6-438c-b455-41ae36a21b7e"
      },
      "execution_count": 16,
      "outputs": [
        {
          "output_type": "stream",
          "name": "stdout",
          "text": [
            "Retrieving the best SparkXGBClassifier model...\n",
            "Testing SparkXGBClassifier model...\n",
            "\n",
            "Total Execution Time: 0.11 seconds\n",
            "SparkXGBClassifier Test Accuracy: 0.8909216772151899\n",
            "Confusion Matrix:\n",
            "+------+----------+-----+\n",
            "|actual|prediction|count|\n",
            "+------+----------+-----+\n",
            "|     1|       0.0|  756|\n",
            "|     0|       0.0| 6819|\n",
            "|     1|       1.0| 2190|\n",
            "|     0|       1.0|  347|\n",
            "+------+----------+-----+\n",
            "\n",
            "Precision: 0.8632242806464328\n",
            "Recall: 0.7433808553971487\n",
            "Accuracy: 0.8909216772151899\n",
            "F1 Score: 0.7988327557906256\n"
          ]
        }
      ]
    },
    {
      "cell_type": "markdown",
      "source": [
        "# Visualizations / Plots\n",
        "\n",
        "- Confusion Matrices\n",
        "- ROC/AUC curve (Binary Classification)\n",
        "- Loss Plots\n",
        "- Feature Importance Plots"
      ],
      "metadata": {
        "id": "O4A6b48fZUvB"
      }
    },
    {
      "cell_type": "code",
      "source": [
        "# import matplotlib.pyplot as plt\n",
        "# from sklearn.metrics import ConfusionMatrixDisplay\n",
        "# import pandas as pd\n",
        "\n",
        "# def plot_existing_confusion_matrix(confusion_matrix_df, model_name, save_path):\n",
        "#     \"\"\"\n",
        "#     Plot and save the confusion matrix using an existing Spark DataFrame.\n",
        "\n",
        "#     Args:\n",
        "#         confusion_matrix_df: Spark DataFrame with `actual`, `predicted`, and `count` columns.\n",
        "#         model_name: Name of the model for the plot title.\n",
        "#         save_path: File path to save the plot.\n",
        "#     \"\"\"\n",
        "#     # Convert Spark DataFrame to Pandas for plotting\n",
        "#     confusion_matrix_pd = confusion_matrix_df.toPandas()\n",
        "#     confusion_matrix_pivot = confusion_matrix_pd.pivot(index=\"actual\", columns=\"prediction\", values=\"count\").fillna(0)\n",
        "\n",
        "#     # Convert to numpy array for sklearn compatibility\n",
        "#     labels = sorted(confusion_matrix_pivot.index.union(confusion_matrix_pivot.columns))\n",
        "#     cm_array = confusion_matrix_pivot.reindex(index=labels, columns=labels, fill_value=0).to_numpy()\n",
        "\n",
        "#     # Plot the confusion matrix\n",
        "#     disp = ConfusionMatrixDisplay(confusion_matrix=cm_array, display_labels=labels)\n",
        "#     disp.plot(cmap=\"viridis\")\n",
        "#     plt.title(f'Confusion Matrix: {model_name}')\n",
        "#     # plt.savefig(save_path, bbox_inches='tight')\n",
        "#     plt.show()\n",
        "\n",
        "# # Example usage for all models\n",
        "# plot_existing_confusion_matrix(confusion_matrix_nb, \"Naive Bayes\", \"confusion_matrix_nb.png\")\n",
        "# plot_existing_confusion_matrix(confusion_matrix_linear_reg, \"Naive Bayes\", \"confusion_matrix_nb.png\")\n",
        "# plot_existing_confusion_matrix(confusion_matrix_log_reg, \"Logistic Regression\", \"confusion_matrix_log_reg.png\")\n",
        "# plot_existing_confusion_matrix(confusion_matrix_svm, \"SVM\", \"confusion_matrix_svm.png\")\n",
        "# plot_existing_confusion_matrix(confusion_matrix_rf, \"Random Forest\", \"confusion_matrix_rf.png\")\n",
        "# plot_existing_confusion_matrix(confusion_matrix_xgb, \"XGBoost\", \"confusion_matrix_xgb.png\")\n",
        "\n",
        "print(\"Naive Bayes\")\n",
        "print(confusion_matrix_nb.show())\n",
        "print(\"Linear Regression Classifier\")\n",
        "print(confusion_matrix_linear_reg.show())\n",
        "print(\"Logisitic Regression\")\n",
        "print(confusion_matrix_log_reg.show())\n",
        "print(\"SVM\")\n",
        "print(confusion_matrix_svm.show())\n",
        "print(\"Random Forest\")\n",
        "print(confusion_matrix_rf.show())\n",
        "print(\"XGBoost\")\n",
        "print(confusion_matrix_xgb.show())\n",
        "\n"
      ],
      "metadata": {
        "colab": {
          "base_uri": "https://localhost:8080/"
        },
        "id": "Lhq6ZaWYZT_s",
        "outputId": "77024e46-4c74-4f54-9405-f931776b53ed"
      },
      "execution_count": 17,
      "outputs": [
        {
          "output_type": "stream",
          "name": "stdout",
          "text": [
            "Naive Bayes\n",
            "+------+----------+-----+\n",
            "|actual|prediction|count|\n",
            "+------+----------+-----+\n",
            "|     1|       0.0| 1365|\n",
            "|     0|       0.0| 7123|\n",
            "|     1|       1.0| 1581|\n",
            "|     0|       1.0|   43|\n",
            "+------+----------+-----+\n",
            "\n",
            "None\n",
            "Linear Regression Classifier\n",
            "+------+----------+-----+\n",
            "|actual|prediction|count|\n",
            "+------+----------+-----+\n",
            "|     1|         0| 1149|\n",
            "|     1|         1| 1797|\n",
            "|     0|         0| 7086|\n",
            "|     0|         1|   80|\n",
            "+------+----------+-----+\n",
            "\n",
            "None\n",
            "Logisitic Regression\n",
            "+------+----------+-----+\n",
            "|actual|prediction|count|\n",
            "+------+----------+-----+\n",
            "|     1|       0.0|  796|\n",
            "|     0|       0.0| 6851|\n",
            "|     1|       1.0| 2150|\n",
            "|     0|       1.0|  315|\n",
            "+------+----------+-----+\n",
            "\n",
            "None\n",
            "SVM\n",
            "+------+----------+-----+\n",
            "|actual|prediction|count|\n",
            "+------+----------+-----+\n",
            "|     1|       0.0|  975|\n",
            "|     0|       0.0| 7001|\n",
            "|     1|       1.0| 1971|\n",
            "|     0|       1.0|  165|\n",
            "+------+----------+-----+\n",
            "\n",
            "None\n",
            "Random Forest\n",
            "+------+----------+-----+\n",
            "|actual|prediction|count|\n",
            "+------+----------+-----+\n",
            "|     1|       0.0| 1360|\n",
            "|     0|       0.0| 7166|\n",
            "|     1|       1.0| 1586|\n",
            "+------+----------+-----+\n",
            "\n",
            "None\n",
            "XGBoost\n",
            "+------+----------+-----+\n",
            "|actual|prediction|count|\n",
            "+------+----------+-----+\n",
            "|     1|       0.0|  756|\n",
            "|     0|       0.0| 6819|\n",
            "|     1|       1.0| 2190|\n",
            "|     0|       1.0|  347|\n",
            "+------+----------+-----+\n",
            "\n",
            "None\n"
          ]
        }
      ]
    },
    {
      "cell_type": "code",
      "source": [
        "import matplotlib.pyplot as plt\n",
        "import seaborn as sns\n",
        "from pyspark.sql import DataFrame\n",
        "from pyspark.sql.functions import col\n",
        "\n",
        "def plot_confusion_matrix(confusion_matrix: DataFrame, output_file: str):\n",
        "    \"\"\"\n",
        "    Plots and saves a confusion matrix from a PySpark DataFrame.\n",
        "\n",
        "    Args:\n",
        "        confusion_matrix (DataFrame): Spark DataFrame containing columns `actual`, `prediction`, and `count`.\n",
        "        output_file (str): File path to save the confusion matrix plot.\n",
        "    \"\"\"\n",
        "    # Collect the confusion matrix data\n",
        "    confusion_data = confusion_matrix.collect()\n",
        "\n",
        "    # Extract unique labels\n",
        "    labels = sorted(set([row[\"actual\"] for row in confusion_data]))\n",
        "\n",
        "    # Initialize confusion matrix\n",
        "    matrix = [[0 for _ in labels] for _ in labels]\n",
        "\n",
        "    # Populate the matrix\n",
        "    for row in confusion_data:\n",
        "        actual = int(row[\"actual\"])\n",
        "        predicted = int(row[\"prediction\"])\n",
        "        count = row[\"count\"]\n",
        "        matrix[actual][predicted] = count\n",
        "\n",
        "    # Plot the confusion matrix\n",
        "    plt.figure(figsize=(8, 6))\n",
        "    sns.heatmap(matrix, annot=True, fmt=\"d\", cmap=\"Blues\", xticklabels=labels, yticklabels=labels)\n",
        "    plt.xlabel(\"Predicted\")\n",
        "    plt.ylabel(\"Actual\")\n",
        "    plt.title(\"Confusion Matrix\")\n",
        "    plt.savefig(output_file, bbox_inches=\"tight\")\n",
        "    plt.show()\n",
        "    plt.close()  # Close the plot to avoid overlapping\n",
        "\n",
        "print(\"Naive Bayes\")\n",
        "plot_confusion_matrix(confusion_matrix_nb, \"confusion_matrix_nb.png\")\n",
        "print(\"Linear Regression Classifier\")\n",
        "plot_confusion_matrix(confusion_matrix_linear_reg, \"confusion_matrix_lin_reg.png\")\n",
        "print(\"Logisitic Regression\")\n",
        "plot_confusion_matrix(confusion_matrix_log_reg, \"confusion_matrix_log_reg.png\")\n",
        "print(\"SVM\")\n",
        "plot_confusion_matrix(confusion_matrix_svm, \"confusion_matrix_svm.png\")\n",
        "print(\"Random Forest\")\n",
        "plot_confusion_matrix(confusion_matrix_rf, \"confusion_matrix_rf.png\")\n",
        "print(\"XGBoost\")\n",
        "plot_confusion_matrix(confusion_matrix_xgb, \"confusion_matrix_xgb.png\")\n"
      ],
      "metadata": {
        "colab": {
          "base_uri": "https://localhost:8080/",
          "height": 1000
        },
        "id": "lYqV8AUwK8ev",
        "outputId": "d83ee8e8-2126-468e-97a2-1f792a5556f6"
      },
      "execution_count": 24,
      "outputs": [
        {
          "output_type": "stream",
          "name": "stdout",
          "text": [
            "Naive Bayes\n"
          ]
        },
        {
          "output_type": "display_data",
          "data": {
            "text/plain": [
              "<Figure size 800x600 with 2 Axes>"
            ],
            "image/png": "[encoded data removed]"
          },
          "metadata": {}
        },
        {
          "output_type": "stream",
          "name": "stdout",
          "text": [
            "Linear Regression Classifier\n"
          ]
        },
        {
          "output_type": "display_data",
          "data": {
            "text/plain": [
              "<Figure size 800x600 with 2 Axes>"
            ],
            "image/png": "[encoded data removed]"
          },
          "metadata": {}
        },
        {
          "output_type": "stream",
          "name": "stdout",
          "text": [
            "Logisitic Regression\n"
          ]
        },
        {
          "output_type": "display_data",
          "data": {
            "text/plain": [
              "<Figure size 800x600 with 2 Axes>"
            ],
            "image/png": "[encoded data removed]"
          },
          "metadata": {}
        },
        {
          "output_type": "stream",
          "name": "stdout",
          "text": [
            "SVM\n"
          ]
        },
        {
          "output_type": "display_data",
          "data": {
            "text/plain": [
              "<Figure size 800x600 with 2 Axes>"
            ],
            "image/png": "[encoded data removed]"
          },
          "metadata": {}
        },
        {
          "output_type": "stream",
          "name": "stdout",
          "text": [
            "Random Forest\n"
          ]
        },
        {
          "output_type": "display_data",
          "data": {
            "text/plain": [
              "<Figure size 800x600 with 2 Axes>"
            ],
            "image/png": "[encoded data removed]"
          },
          "metadata": {}
        },
        {
          "output_type": "stream",
          "name": "stdout",
          "text": [
            "XGBoost\n"
          ]
        },
        {
          "output_type": "display_data",
          "data": {
            "text/plain": [
              "<Figure size 800x600 with 2 Axes>"
            ],
            "image/png": "[encoded data removed]"
          },
          "metadata": {}
        }
      ]
    },
    {
      "cell_type": "code",
      "source": [
        "# Combine metrics into one dictionary\n",
        "all_metrics = {\n",
        "    \"XGBoost\": xgb_metrics,\n",
        "    \"Random Forest\": rf_metrics,\n",
        "    \"Logistic Regression\": metrics_log_reg,\n",
        "    \"Logistic Regression\": metrics_log_reg,\n",
        "    \"SVM\": svm_metrics,\n",
        "    \"Naive Bayes\": nb_metrics\n",
        "}\n",
        "\n",
        "# Display metrics for all models\n",
        "import pandas as pd\n",
        "\n",
        "metrics_df = pd.DataFrame(all_metrics).T\n",
        "metrics_df.index.name = \"Model\"\n",
        "metrics_df.columns = [\"Precision\", \"Recall\", \"Accuracy\", \"F1 Score\"]\n",
        "\n",
        "# Display the table\n",
        "print(metrics_df)"
      ],
      "metadata": {
        "colab": {
          "base_uri": "https://localhost:8080/"
        },
        "id": "3ZLr0IxLakNd",
        "outputId": "bba613ef-3b26-48f2-8944-e183c81dfdf8"
      },
      "execution_count": 23,
      "outputs": [
        {
          "output_type": "stream",
          "name": "stdout",
          "text": [
            "                     Precision    Recall  Accuracy  F1 Score\n",
            "Model                                                       \n",
            "XGBoost               0.863224  0.743381  0.890922  0.798833\n",
            "Random Forest         1.000000  0.538357  0.865506  0.699912\n",
            "Logistic Regression   0.957379  0.609980  0.878461  0.745179\n",
            "SVM                   0.922753  0.669043  0.887263  0.775679\n",
            "Naive Bayes           0.973522  0.536660  0.860759  0.691904\n"
          ]
        }
      ]
    },
    {
      "cell_type": "markdown",
      "source": [
        "## ROC-AUC Curve"
      ],
      "metadata": {
        "id": "C3YaghBBMXlK"
      }
    },
    {
      "cell_type": "code",
      "source": [
        "import matplotlib.pyplot as plt\n",
        "from pyspark.ml.evaluation import BinaryClassificationEvaluator\n",
        "from pyspark.sql.functions import col, udf\n",
        "from pyspark.sql.types import DoubleType\n",
        "from pyspark.ml.linalg import DenseVector\n",
        "\n",
        "# Define a UDF to extract the probability for class 1 from rawPrediction\n",
        "def extract_raw_probability(raw_pred):\n",
        "    \"\"\"\n",
        "    Extract the probability of the positive class from rawPrediction for models without `probability` column.\n",
        "    For binary classification, use the raw score for the positive class.\n",
        "    \"\"\"\n",
        "    return float(raw_pred[1]) if isinstance(raw_pred, DenseVector) else raw_pred.values[1]\n",
        "\n",
        "# UDF for extracting the positive class score\n",
        "extract_raw_prob_udf = udf(lambda raw_pred: extract_raw_probability(raw_pred), DoubleType())\n",
        "\n",
        "def plot_roc_curve(predictions, model_name):\n",
        "    \"\"\"\n",
        "    Plot the ROC curve for a given model's predictions.\n",
        "\n",
        "    Args:\n",
        "        predictions (DataFrame): Spark DataFrame with `label`, `rawPrediction` columns.\n",
        "        model_name (str): Name of the model for display in the plot.\n",
        "    \"\"\"\n",
        "    # Add a column for positive class probabilities (from rawPrediction)\n",
        "    predictions_with_prob = predictions.withColumn(\"positive_probability\", extract_raw_prob_udf(col(\"rawPrediction\")))\n",
        "\n",
        "    # Convert to Pandas for ROC computation\n",
        "    roc_pd = predictions_with_prob.select(\"positive_probability\", \"label\").orderBy(\"positive_probability\", ascending=False).toPandas()\n",
        "\n",
        "    # Compute TPR and FPR\n",
        "    thresholds = roc_pd[\"positive_probability\"].unique()\n",
        "    tpr = []  # True Positive Rate\n",
        "    fpr = []  # False Positive Rate\n",
        "\n",
        "    for threshold in thresholds:\n",
        "        tp = ((roc_pd[\"positive_probability\"] >= threshold) & (roc_pd[\"label\"] == 1)).sum()\n",
        "        fp = ((roc_pd[\"positive_probability\"] >= threshold) & (roc_pd[\"label\"] == 0)).sum()\n",
        "        fn = ((roc_pd[\"positive_probability\"] < threshold) & (roc_pd[\"label\"] == 1)).sum()\n",
        "        tn = ((roc_pd[\"positive_probability\"] < threshold) & (roc_pd[\"label\"] == 0)).sum()\n",
        "\n",
        "        tpr.append(tp / (tp + fn) if (tp + fn) > 0 else 0)\n",
        "        fpr.append(fp / (fp + tn) if (fp + tn) > 0 else 0)\n",
        "\n",
        "    # Plot the ROC curve\n",
        "    plt.figure(figsize=(8, 6))\n",
        "    plt.plot(fpr, tpr, label=f\"ROC Curve: {model_name}\")\n",
        "    plt.plot([0, 1], [0, 1], 'k--', label=\"Random Guess\")\n",
        "    plt.xlabel(\"False Positive Rate (FPR)\")\n",
        "    plt.ylabel(\"True Positive Rate (TPR)\")\n",
        "    plt.title(f\"ROC Curve for {model_name}\")\n",
        "    plt.legend()\n",
        "    plt.grid()\n",
        "    plt.savefig(f\"ROC Curve for {model_name}\")\n",
        "    plt.show()\n",
        "\n",
        "# Logistic Regression\n",
        "print(\"Evaluating Logistic Regression...\")\n",
        "log_reg_predictions = best_log_reg_model.transform(test_data_scaled)  # Ensure best_log_reg_model is your tuned Logistic Regression model\n",
        "log_reg_auc = BinaryClassificationEvaluator(rawPredictionCol=\"rawPrediction\", labelCol=\"label\", metricName=\"areaUnderROC\").evaluate(log_reg_predictions)\n",
        "print(f\"Logistic Regression AUC: {log_reg_auc}\")\n",
        "plot_roc_curve(log_reg_predictions, \"Logistic Regression\")\n",
        "\n",
        "# Random Forest\n",
        "print(\"Evaluating Random Forest...\")\n",
        "rf_predictions = best_rf_model.transform(test_data_scaled)  # Ensure best_rf_model is your tuned Random Forest model\n",
        "rf_auc = BinaryClassificationEvaluator(rawPredictionCol=\"rawPrediction\", labelCol=\"label\", metricName=\"areaUnderROC\").evaluate(rf_predictions)\n",
        "print(f\"Random Forest AUC: {rf_auc}\")\n",
        "plot_roc_curve(rf_predictions, \"Random Forest\")\n",
        "\n",
        "# SVM\n",
        "print(\"Evaluating SVM...\")\n",
        "svm_predictions = best_svm_model.transform(test_data_scaled)  # Ensure best_svm_model is your tuned SVM model\n",
        "svm_auc = BinaryClassificationEvaluator(rawPredictionCol=\"rawPrediction\", labelCol=\"label\", metricName=\"areaUnderROC\").evaluate(svm_predictions)\n",
        "print(f\"SVM AUC: {svm_auc}\")\n",
        "plot_roc_curve(svm_predictions, \"SVM\")\n",
        "\n",
        "# XGBoost\n",
        "print(\"Evaluating XGBoost...\")\n",
        "xgb_predictions = best_xgb_model.transform(test_data_scaled)  # Ensure best_xgb_model is your tuned XGBoost model\n",
        "xgb_auc = BinaryClassificationEvaluator(rawPredictionCol=\"rawPrediction\", labelCol=\"label\", metricName=\"areaUnderROC\").evaluate(xgb_predictions)\n",
        "print(f\"XGBoost AUC: {xgb_auc}\")\n",
        "plot_roc_curve(xgb_predictions, \"XGBoost\")\n"
      ],
      "metadata": {
        "colab": {
          "base_uri": "https://localhost:8080/",
          "height": 1000
        },
        "id": "3hjeIcO1lSQG",
        "outputId": "bdefaa5d-636a-4d58-9f16-35e0e46f51fc"
      },
      "execution_count": 26,
      "outputs": [
        {
          "metadata": {
            "tags": null
          },
          "name": "stdout",
          "output_type": "stream",
          "text": [
            "Evaluating Logistic Regression...\n",
            "Logistic Regression AUC: 0.9466229416689952\n"
          ]
        },
        {
          "data": {
            "image/png": "[encoded data removed]",
            "text/plain": [
              "<Figure size 800x600 with 1 Axes>"
            ]
          },
          "metadata": {},
          "output_type": "display_data"
        },
        {
          "metadata": {
            "tags": null
          },
          "name": "stdout",
          "output_type": "stream",
          "text": [
            "Evaluating Random Forest...\n",
            "Random Forest AUC: 0.9326448261468555\n"
          ]
        },
        {
          "data": {
            "image/png": "[encoded data removed]",
            "text/plain": [
              "<Figure size 800x600 with 1 Axes>"
            ]
          },
          "metadata": {},
          "output_type": "display_data"
        },
        {
          "metadata": {
            "tags": null
          },
          "name": "stdout",
          "output_type": "stream",
          "text": [
            "Evaluating SVM...\n",
            "SVM AUC: 0.9433339036511533\n"
          ]
        },
        {
          "data": {
            "image/png": "[encoded data removed]",
            "text/plain": [
              "<Figure size 800x600 with 1 Axes>"
            ]
          },
          "metadata": {},
          "output_type": "display_data"
        },
        {
          "metadata": {
            "tags": null
          },
          "name": "stdout",
          "output_type": "stream",
          "text": [
            "Evaluating XGBoost...\n",
            "XGBoost AUC: 0.9453790661907835\n"
          ]
        },
        {
          "output_type": "display_data",
          "data": {
            "text/plain": [
              "<Figure size 800x600 with 1 Axes>"
            ],
            "image/png": "[encoded data removed]"
          },
          "metadata": {}
        }
      ]
    },
    {
      "cell_type": "markdown",
      "source": [
        "## Feature Importance"
      ],
      "metadata": {
        "id": "-_DCo2EeZTt6"
      }
    },
    {
      "cell_type": "code",
      "source": [
        "# Extract feature importances from the underlying XGBoost model\n",
        "xgb_booster = best_xgb_model.get_booster()\n",
        "xgb_importance = xgb_booster.get_score(importance_type='weight')\n",
        "\n",
        "# Convert feature importances to a PySpark DataFrame\n",
        "xgb_importance_df = spark.createDataFrame(\n",
        "    [(feature, importance) for feature, importance in xgb_importance.items()],\n",
        "    [\"Feature\", \"Importance\"]\n",
        ")\n",
        "\n",
        "# Sort and select the top 15 features\n",
        "xgb_top_features = xgb_importance_df.orderBy(col(\"Importance\").desc()).limit(15).collect()\n",
        "\n",
        "# Prepare data for plotting\n",
        "xgb_features = [row[\"Feature\"] for row in xgb_top_features]\n",
        "xgb_importances = [row[\"Importance\"] for row in xgb_top_features]\n",
        "\n",
        "# Plot the top 15 features\n",
        "import matplotlib.pyplot as plt\n",
        "\n",
        "plt.figure(figsize=(10, 6))\n",
        "plt.barh(xgb_features[::-1], xgb_importances[::-1], color='skyblue')  # Reverse for better readability\n",
        "plt.xlabel(\"Importance\")\n",
        "plt.title(\"Top 15 Features - XGBoost\")\n",
        "plt.show()\n"
      ],
      "metadata": {
        "colab": {
          "base_uri": "https://localhost:8080/",
          "height": 564
        },
        "id": "UuQYuO8n1JbM",
        "outputId": "99e3fec4-02ae-40f8-940a-ad4713278a63"
      },
      "execution_count": 27,
      "outputs": [
        {
          "output_type": "display_data",
          "data": {
            "text/plain": [
              "<Figure size 1000x600 with 1 Axes>"
            ],
            "image/png": "[encoded data removed]"
          },
          "metadata": {}
        }
      ]
    },
    {
      "cell_type": "markdown",
      "source": [
        "## Random Forest Accuracy with Num Trees"
      ],
      "metadata": {
        "id": "EjLtKssKYYrF"
      }
    },
    {
      "cell_type": "code",
      "source": [
        "import matplotlib.pyplot as plt\n",
        "from pyspark.ml.classification import RandomForestClassifier\n",
        "from pyspark.ml.evaluation import MulticlassClassificationEvaluator\n",
        "\n",
        "# Initialize variables to store results\n",
        "num_trees_list = range(1, 10)\n",
        "train_accuracies = []\n",
        "test_accuracies = []\n",
        "\n",
        "# Loop through different numbers of trees\n",
        "for num_trees in num_trees_list:\n",
        "    print(f\"Training Random Forest with {num_trees} trees...\")\n",
        "\n",
        "    # Define Random Forest model\n",
        "    rf = RandomForestClassifier(featuresCol=\"features\", labelCol=\"label\", numTrees=num_trees, seed=69, maxDepth=5, minInstancesPerNode=2)\n",
        "\n",
        "    # Train the model\n",
        "    rf_model = rf.fit(train_data_scaled)\n",
        "\n",
        "    # Evaluate on training data\n",
        "    train_predictions = rf_model.transform(train_data_scaled)\n",
        "    train_evaluator = MulticlassClassificationEvaluator(labelCol=\"label\", predictionCol=\"prediction\", metricName=\"accuracy\")\n",
        "    train_accuracy = train_evaluator.evaluate(train_predictions)\n",
        "    train_accuracies.append(train_accuracy)\n",
        "\n",
        "    # Evaluate on testing data\n",
        "    test_predictions = rf_model.transform(test_data_scaled)\n",
        "    test_evaluator = MulticlassClassificationEvaluator(labelCol=\"label\", predictionCol=\"prediction\", metricName=\"accuracy\")\n",
        "    test_accuracy = test_evaluator.evaluate(test_predictions)\n",
        "    test_accuracies.append(test_accuracy)\n",
        "\n",
        "    # print(f\"Train Accuracy with {num_trees} trees: {train_accuracy:.4f}\")\n",
        "    # print(f\"Test Accuracy with {num_trees} trees: {test_accuracy:.4f}\")\n",
        "\n",
        "# Plot the results\n",
        "plt.figure(figsize=(10, 6))\n",
        "plt.plot(num_trees_list, train_accuracies, label=\"Train Accuracy\")\n",
        "plt.plot(num_trees_list, test_accuracies, label=\"Test Accuracy\")\n",
        "plt.xlabel(\"Number of Trees\")\n",
        "plt.ylabel(\"Accuracy\")\n",
        "plt.title(\"Random Forest Train vs Test Accuracy vs Number of Trees\")\n",
        "plt.legend()\n",
        "plt.grid()\n",
        "plt.savefig(\"rf_train_test_accuracy_vs_num_trees.png\", bbox_inches='tight')\n",
        "plt.show()\n"
      ],
      "metadata": {
        "colab": {
          "base_uri": "https://localhost:8080/",
          "height": 725
        },
        "id": "XN1dfJakPrG4",
        "outputId": "f58ea50f-ca25-4cec-a8e8-9b33fb2229a4"
      },
      "execution_count": 37,
      "outputs": [
        {
          "output_type": "stream",
          "name": "stdout",
          "text": [
            "Training Random Forest with 1 trees...\n",
            "Training Random Forest with 2 trees...\n",
            "Training Random Forest with 3 trees...\n",
            "Training Random Forest with 4 trees...\n",
            "Training Random Forest with 5 trees...\n",
            "Training Random Forest with 6 trees...\n",
            "Training Random Forest with 7 trees...\n",
            "Training Random Forest with 8 trees...\n",
            "Training Random Forest with 9 trees...\n"
          ]
        },
        {
          "output_type": "display_data",
          "data": {
            "text/plain": [
              "<Figure size 1000x600 with 1 Axes>"
            ],
            "image/png": "[encoded data removed]"
          },
          "metadata": {}
        }
      ]
    },
    {
      "cell_type": "code",
      "source": [],
      "metadata": {
        "id": "DnwuZVzdXgaj"
      },
      "execution_count": null,
      "outputs": []
    }
  ],
  "metadata": {
    "colab": {
      "provenance": []
    },
    "kernelspec": {
      "display_name": "Python 3",
      "name": "python3"
    },
    "language_info": {
      "name": "python"
    }
  },
  "nbformat": 4,
  "nbformat_minor": 0
}